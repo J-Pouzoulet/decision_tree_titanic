{
 "cells": [
  {
   "cell_type": "code",
   "execution_count": 60,
   "metadata": {},
   "outputs": [],
   "source": [
    "import pandas as pd\n",
    "import numpy as np\n",
    "import matplotlib.pyplot as plt\n",
    "import sklearn.linear_model as skl\n",
    "import sklearn.preprocessing as skp\n",
    "import sklearn.metrics as skm\n",
    "import patsy\n",
    "import patsylearn\n",
    "from sklearn.impute import SimpleImputer\n",
    "from sklearn.model_selection import train_test_split\n",
    "from sklearn.preprocessing import MinMaxScaler\n",
    "from sklearn.tree import DecisionTreeClassifier\n",
    "from sklearn.model_selection import GridSearchCV, RandomizedSearchCV\n",
    "import graphviz\n",
    "from sklearn.metrics import make_scorer\n",
    "from sklearn.model_selection import learning_curve\n",
    "from sklearn.inspection import DecisionBoundaryDisplay\n"
   ]
  },
  {
   "cell_type": "code",
   "execution_count": 2,
   "metadata": {},
   "outputs": [],
   "source": [
    "df_train = pd.read_csv('train.csv')\n",
    "df_test = pd.read_csv('test.csv')\n",
    "\n",
    "df_train['Pclass'] = df_train['Pclass'].astype(str)\n",
    "df_test['Pclass'] = df_test['Pclass'].astype(str)"
   ]
  },
  {
   "cell_type": "code",
   "execution_count": 3,
   "metadata": {},
   "outputs": [
    {
     "name": "stdout",
     "output_type": "stream",
     "text": [
      "<class 'pandas.core.frame.DataFrame'>\n",
      "RangeIndex: 891 entries, 0 to 890\n",
      "Data columns (total 12 columns):\n",
      " #   Column       Non-Null Count  Dtype  \n",
      "---  ------       --------------  -----  \n",
      " 0   PassengerId  891 non-null    int64  \n",
      " 1   Survived     891 non-null    int64  \n",
      " 2   Pclass       891 non-null    object \n",
      " 3   Name         891 non-null    object \n",
      " 4   Sex          891 non-null    object \n",
      " 5   Age          714 non-null    float64\n",
      " 6   SibSp        891 non-null    int64  \n",
      " 7   Parch        891 non-null    int64  \n",
      " 8   Ticket       891 non-null    object \n",
      " 9   Fare         891 non-null    float64\n",
      " 10  Cabin        204 non-null    object \n",
      " 11  Embarked     889 non-null    object \n",
      "dtypes: float64(2), int64(4), object(6)\n",
      "memory usage: 83.7+ KB\n"
     ]
    }
   ],
   "source": [
    "df_train.info()"
   ]
  },
  {
   "cell_type": "code",
   "execution_count": 4,
   "metadata": {},
   "outputs": [
    {
     "data": {
      "text/plain": [
       "(891, 12)"
      ]
     },
     "execution_count": 4,
     "metadata": {},
     "output_type": "execute_result"
    }
   ],
   "source": [
    "df_train.shape"
   ]
  },
  {
   "cell_type": "code",
   "execution_count": 5,
   "metadata": {},
   "outputs": [
    {
     "name": "stdout",
     "output_type": "stream",
     "text": [
      "<class 'pandas.core.frame.DataFrame'>\n",
      "RangeIndex: 891 entries, 0 to 890\n",
      "Data columns (total 12 columns):\n",
      " #   Column       Non-Null Count  Dtype  \n",
      "---  ------       --------------  -----  \n",
      " 0   PassengerId  891 non-null    int64  \n",
      " 1   Survived     891 non-null    int64  \n",
      " 2   Pclass       891 non-null    object \n",
      " 3   Name         891 non-null    object \n",
      " 4   Sex          891 non-null    object \n",
      " 5   Age          714 non-null    float64\n",
      " 6   SibSp        891 non-null    int64  \n",
      " 7   Parch        891 non-null    int64  \n",
      " 8   Ticket       891 non-null    object \n",
      " 9   Fare         891 non-null    float64\n",
      " 10  Cabin        204 non-null    object \n",
      " 11  Embarked     889 non-null    object \n",
      "dtypes: float64(2), int64(4), object(6)\n",
      "memory usage: 83.7+ KB\n"
     ]
    }
   ],
   "source": [
    "df_train.info()"
   ]
  },
  {
   "cell_type": "code",
   "execution_count": 6,
   "metadata": {},
   "outputs": [
    {
     "data": {
      "text/html": [
       "<div>\n",
       "<style scoped>\n",
       "    .dataframe tbody tr th:only-of-type {\n",
       "        vertical-align: middle;\n",
       "    }\n",
       "\n",
       "    .dataframe tbody tr th {\n",
       "        vertical-align: top;\n",
       "    }\n",
       "\n",
       "    .dataframe thead th {\n",
       "        text-align: right;\n",
       "    }\n",
       "</style>\n",
       "<table border=\"1\" class=\"dataframe\">\n",
       "  <thead>\n",
       "    <tr style=\"text-align: right;\">\n",
       "      <th></th>\n",
       "      <th>PassengerId</th>\n",
       "      <th>Survived</th>\n",
       "      <th>Pclass</th>\n",
       "      <th>Name</th>\n",
       "      <th>Sex</th>\n",
       "      <th>Age</th>\n",
       "      <th>SibSp</th>\n",
       "      <th>Parch</th>\n",
       "      <th>Ticket</th>\n",
       "      <th>Fare</th>\n",
       "      <th>Cabin</th>\n",
       "      <th>Embarked</th>\n",
       "    </tr>\n",
       "  </thead>\n",
       "  <tbody>\n",
       "    <tr>\n",
       "      <th>0</th>\n",
       "      <td>1</td>\n",
       "      <td>0</td>\n",
       "      <td>3</td>\n",
       "      <td>Braund, Mr. Owen Harris</td>\n",
       "      <td>male</td>\n",
       "      <td>22.0</td>\n",
       "      <td>1</td>\n",
       "      <td>0</td>\n",
       "      <td>A/5 21171</td>\n",
       "      <td>7.2500</td>\n",
       "      <td>NaN</td>\n",
       "      <td>S</td>\n",
       "    </tr>\n",
       "    <tr>\n",
       "      <th>1</th>\n",
       "      <td>2</td>\n",
       "      <td>1</td>\n",
       "      <td>1</td>\n",
       "      <td>Cumings, Mrs. John Bradley (Florence Briggs Th...</td>\n",
       "      <td>female</td>\n",
       "      <td>38.0</td>\n",
       "      <td>1</td>\n",
       "      <td>0</td>\n",
       "      <td>PC 17599</td>\n",
       "      <td>71.2833</td>\n",
       "      <td>C85</td>\n",
       "      <td>C</td>\n",
       "    </tr>\n",
       "    <tr>\n",
       "      <th>2</th>\n",
       "      <td>3</td>\n",
       "      <td>1</td>\n",
       "      <td>3</td>\n",
       "      <td>Heikkinen, Miss. Laina</td>\n",
       "      <td>female</td>\n",
       "      <td>26.0</td>\n",
       "      <td>0</td>\n",
       "      <td>0</td>\n",
       "      <td>STON/O2. 3101282</td>\n",
       "      <td>7.9250</td>\n",
       "      <td>NaN</td>\n",
       "      <td>S</td>\n",
       "    </tr>\n",
       "    <tr>\n",
       "      <th>3</th>\n",
       "      <td>4</td>\n",
       "      <td>1</td>\n",
       "      <td>1</td>\n",
       "      <td>Futrelle, Mrs. Jacques Heath (Lily May Peel)</td>\n",
       "      <td>female</td>\n",
       "      <td>35.0</td>\n",
       "      <td>1</td>\n",
       "      <td>0</td>\n",
       "      <td>113803</td>\n",
       "      <td>53.1000</td>\n",
       "      <td>C123</td>\n",
       "      <td>S</td>\n",
       "    </tr>\n",
       "    <tr>\n",
       "      <th>4</th>\n",
       "      <td>5</td>\n",
       "      <td>0</td>\n",
       "      <td>3</td>\n",
       "      <td>Allen, Mr. William Henry</td>\n",
       "      <td>male</td>\n",
       "      <td>35.0</td>\n",
       "      <td>0</td>\n",
       "      <td>0</td>\n",
       "      <td>373450</td>\n",
       "      <td>8.0500</td>\n",
       "      <td>NaN</td>\n",
       "      <td>S</td>\n",
       "    </tr>\n",
       "    <tr>\n",
       "      <th>5</th>\n",
       "      <td>6</td>\n",
       "      <td>0</td>\n",
       "      <td>3</td>\n",
       "      <td>Moran, Mr. James</td>\n",
       "      <td>male</td>\n",
       "      <td>NaN</td>\n",
       "      <td>0</td>\n",
       "      <td>0</td>\n",
       "      <td>330877</td>\n",
       "      <td>8.4583</td>\n",
       "      <td>NaN</td>\n",
       "      <td>Q</td>\n",
       "    </tr>\n",
       "    <tr>\n",
       "      <th>6</th>\n",
       "      <td>7</td>\n",
       "      <td>0</td>\n",
       "      <td>1</td>\n",
       "      <td>McCarthy, Mr. Timothy J</td>\n",
       "      <td>male</td>\n",
       "      <td>54.0</td>\n",
       "      <td>0</td>\n",
       "      <td>0</td>\n",
       "      <td>17463</td>\n",
       "      <td>51.8625</td>\n",
       "      <td>E46</td>\n",
       "      <td>S</td>\n",
       "    </tr>\n",
       "    <tr>\n",
       "      <th>7</th>\n",
       "      <td>8</td>\n",
       "      <td>0</td>\n",
       "      <td>3</td>\n",
       "      <td>Palsson, Master. Gosta Leonard</td>\n",
       "      <td>male</td>\n",
       "      <td>2.0</td>\n",
       "      <td>3</td>\n",
       "      <td>1</td>\n",
       "      <td>349909</td>\n",
       "      <td>21.0750</td>\n",
       "      <td>NaN</td>\n",
       "      <td>S</td>\n",
       "    </tr>\n",
       "    <tr>\n",
       "      <th>8</th>\n",
       "      <td>9</td>\n",
       "      <td>1</td>\n",
       "      <td>3</td>\n",
       "      <td>Johnson, Mrs. Oscar W (Elisabeth Vilhelmina Berg)</td>\n",
       "      <td>female</td>\n",
       "      <td>27.0</td>\n",
       "      <td>0</td>\n",
       "      <td>2</td>\n",
       "      <td>347742</td>\n",
       "      <td>11.1333</td>\n",
       "      <td>NaN</td>\n",
       "      <td>S</td>\n",
       "    </tr>\n",
       "    <tr>\n",
       "      <th>9</th>\n",
       "      <td>10</td>\n",
       "      <td>1</td>\n",
       "      <td>2</td>\n",
       "      <td>Nasser, Mrs. Nicholas (Adele Achem)</td>\n",
       "      <td>female</td>\n",
       "      <td>14.0</td>\n",
       "      <td>1</td>\n",
       "      <td>0</td>\n",
       "      <td>237736</td>\n",
       "      <td>30.0708</td>\n",
       "      <td>NaN</td>\n",
       "      <td>C</td>\n",
       "    </tr>\n",
       "  </tbody>\n",
       "</table>\n",
       "</div>"
      ],
      "text/plain": [
       "   PassengerId  Survived Pclass  \\\n",
       "0            1         0      3   \n",
       "1            2         1      1   \n",
       "2            3         1      3   \n",
       "3            4         1      1   \n",
       "4            5         0      3   \n",
       "5            6         0      3   \n",
       "6            7         0      1   \n",
       "7            8         0      3   \n",
       "8            9         1      3   \n",
       "9           10         1      2   \n",
       "\n",
       "                                                Name     Sex   Age  SibSp  \\\n",
       "0                            Braund, Mr. Owen Harris    male  22.0      1   \n",
       "1  Cumings, Mrs. John Bradley (Florence Briggs Th...  female  38.0      1   \n",
       "2                             Heikkinen, Miss. Laina  female  26.0      0   \n",
       "3       Futrelle, Mrs. Jacques Heath (Lily May Peel)  female  35.0      1   \n",
       "4                           Allen, Mr. William Henry    male  35.0      0   \n",
       "5                                   Moran, Mr. James    male   NaN      0   \n",
       "6                            McCarthy, Mr. Timothy J    male  54.0      0   \n",
       "7                     Palsson, Master. Gosta Leonard    male   2.0      3   \n",
       "8  Johnson, Mrs. Oscar W (Elisabeth Vilhelmina Berg)  female  27.0      0   \n",
       "9                Nasser, Mrs. Nicholas (Adele Achem)  female  14.0      1   \n",
       "\n",
       "   Parch            Ticket     Fare Cabin Embarked  \n",
       "0      0         A/5 21171   7.2500   NaN        S  \n",
       "1      0          PC 17599  71.2833   C85        C  \n",
       "2      0  STON/O2. 3101282   7.9250   NaN        S  \n",
       "3      0            113803  53.1000  C123        S  \n",
       "4      0            373450   8.0500   NaN        S  \n",
       "5      0            330877   8.4583   NaN        Q  \n",
       "6      0             17463  51.8625   E46        S  \n",
       "7      1            349909  21.0750   NaN        S  \n",
       "8      2            347742  11.1333   NaN        S  \n",
       "9      0            237736  30.0708   NaN        C  "
      ]
     },
     "execution_count": 6,
     "metadata": {},
     "output_type": "execute_result"
    }
   ],
   "source": [
    "df_train.head(10)"
   ]
  },
  {
   "cell_type": "code",
   "execution_count": 7,
   "metadata": {},
   "outputs": [
    {
     "data": {
      "text/html": [
       "<div>\n",
       "<style scoped>\n",
       "    .dataframe tbody tr th:only-of-type {\n",
       "        vertical-align: middle;\n",
       "    }\n",
       "\n",
       "    .dataframe tbody tr th {\n",
       "        vertical-align: top;\n",
       "    }\n",
       "\n",
       "    .dataframe thead th {\n",
       "        text-align: right;\n",
       "    }\n",
       "</style>\n",
       "<table border=\"1\" class=\"dataframe\">\n",
       "  <thead>\n",
       "    <tr style=\"text-align: right;\">\n",
       "      <th></th>\n",
       "      <th>PassengerId</th>\n",
       "      <th>Survived</th>\n",
       "      <th>Age</th>\n",
       "      <th>SibSp</th>\n",
       "      <th>Parch</th>\n",
       "      <th>Fare</th>\n",
       "    </tr>\n",
       "  </thead>\n",
       "  <tbody>\n",
       "    <tr>\n",
       "      <th>count</th>\n",
       "      <td>891.000000</td>\n",
       "      <td>891.000000</td>\n",
       "      <td>714.000000</td>\n",
       "      <td>891.000000</td>\n",
       "      <td>891.000000</td>\n",
       "      <td>891.000000</td>\n",
       "    </tr>\n",
       "    <tr>\n",
       "      <th>mean</th>\n",
       "      <td>446.000000</td>\n",
       "      <td>0.383838</td>\n",
       "      <td>29.699118</td>\n",
       "      <td>0.523008</td>\n",
       "      <td>0.381594</td>\n",
       "      <td>32.204208</td>\n",
       "    </tr>\n",
       "    <tr>\n",
       "      <th>std</th>\n",
       "      <td>257.353842</td>\n",
       "      <td>0.486592</td>\n",
       "      <td>14.526497</td>\n",
       "      <td>1.102743</td>\n",
       "      <td>0.806057</td>\n",
       "      <td>49.693429</td>\n",
       "    </tr>\n",
       "    <tr>\n",
       "      <th>min</th>\n",
       "      <td>1.000000</td>\n",
       "      <td>0.000000</td>\n",
       "      <td>0.420000</td>\n",
       "      <td>0.000000</td>\n",
       "      <td>0.000000</td>\n",
       "      <td>0.000000</td>\n",
       "    </tr>\n",
       "    <tr>\n",
       "      <th>25%</th>\n",
       "      <td>223.500000</td>\n",
       "      <td>0.000000</td>\n",
       "      <td>20.125000</td>\n",
       "      <td>0.000000</td>\n",
       "      <td>0.000000</td>\n",
       "      <td>7.910400</td>\n",
       "    </tr>\n",
       "    <tr>\n",
       "      <th>50%</th>\n",
       "      <td>446.000000</td>\n",
       "      <td>0.000000</td>\n",
       "      <td>28.000000</td>\n",
       "      <td>0.000000</td>\n",
       "      <td>0.000000</td>\n",
       "      <td>14.454200</td>\n",
       "    </tr>\n",
       "    <tr>\n",
       "      <th>75%</th>\n",
       "      <td>668.500000</td>\n",
       "      <td>1.000000</td>\n",
       "      <td>38.000000</td>\n",
       "      <td>1.000000</td>\n",
       "      <td>0.000000</td>\n",
       "      <td>31.000000</td>\n",
       "    </tr>\n",
       "    <tr>\n",
       "      <th>max</th>\n",
       "      <td>891.000000</td>\n",
       "      <td>1.000000</td>\n",
       "      <td>80.000000</td>\n",
       "      <td>8.000000</td>\n",
       "      <td>6.000000</td>\n",
       "      <td>512.329200</td>\n",
       "    </tr>\n",
       "  </tbody>\n",
       "</table>\n",
       "</div>"
      ],
      "text/plain": [
       "       PassengerId    Survived         Age       SibSp       Parch        Fare\n",
       "count   891.000000  891.000000  714.000000  891.000000  891.000000  891.000000\n",
       "mean    446.000000    0.383838   29.699118    0.523008    0.381594   32.204208\n",
       "std     257.353842    0.486592   14.526497    1.102743    0.806057   49.693429\n",
       "min       1.000000    0.000000    0.420000    0.000000    0.000000    0.000000\n",
       "25%     223.500000    0.000000   20.125000    0.000000    0.000000    7.910400\n",
       "50%     446.000000    0.000000   28.000000    0.000000    0.000000   14.454200\n",
       "75%     668.500000    1.000000   38.000000    1.000000    0.000000   31.000000\n",
       "max     891.000000    1.000000   80.000000    8.000000    6.000000  512.329200"
      ]
     },
     "execution_count": 7,
     "metadata": {},
     "output_type": "execute_result"
    }
   ],
   "source": [
    "df_train.describe()"
   ]
  },
  {
   "cell_type": "code",
   "execution_count": 8,
   "metadata": {},
   "outputs": [
    {
     "data": {
      "text/plain": [
       "False"
      ]
     },
     "execution_count": 8,
     "metadata": {},
     "output_type": "execute_result"
    }
   ],
   "source": [
    "df_train.duplicated().any()"
   ]
  },
  {
   "cell_type": "code",
   "execution_count": 9,
   "metadata": {},
   "outputs": [
    {
     "data": {
      "text/html": [
       "<div>\n",
       "<style scoped>\n",
       "    .dataframe tbody tr th:only-of-type {\n",
       "        vertical-align: middle;\n",
       "    }\n",
       "\n",
       "    .dataframe tbody tr th {\n",
       "        vertical-align: top;\n",
       "    }\n",
       "\n",
       "    .dataframe thead th {\n",
       "        text-align: right;\n",
       "    }\n",
       "</style>\n",
       "<table border=\"1\" class=\"dataframe\">\n",
       "  <thead>\n",
       "    <tr style=\"text-align: right;\">\n",
       "      <th></th>\n",
       "      <th>PassengerId</th>\n",
       "      <th>Pclass</th>\n",
       "      <th>Name</th>\n",
       "      <th>Sex</th>\n",
       "      <th>Age</th>\n",
       "      <th>SibSp</th>\n",
       "      <th>Parch</th>\n",
       "      <th>Ticket</th>\n",
       "      <th>Fare</th>\n",
       "      <th>Cabin</th>\n",
       "      <th>Embarked</th>\n",
       "    </tr>\n",
       "  </thead>\n",
       "  <tbody>\n",
       "    <tr>\n",
       "      <th>0</th>\n",
       "      <td>892</td>\n",
       "      <td>3</td>\n",
       "      <td>Kelly, Mr. James</td>\n",
       "      <td>male</td>\n",
       "      <td>34.5</td>\n",
       "      <td>0</td>\n",
       "      <td>0</td>\n",
       "      <td>330911</td>\n",
       "      <td>7.8292</td>\n",
       "      <td>NaN</td>\n",
       "      <td>Q</td>\n",
       "    </tr>\n",
       "    <tr>\n",
       "      <th>1</th>\n",
       "      <td>893</td>\n",
       "      <td>3</td>\n",
       "      <td>Wilkes, Mrs. James (Ellen Needs)</td>\n",
       "      <td>female</td>\n",
       "      <td>47.0</td>\n",
       "      <td>1</td>\n",
       "      <td>0</td>\n",
       "      <td>363272</td>\n",
       "      <td>7.0000</td>\n",
       "      <td>NaN</td>\n",
       "      <td>S</td>\n",
       "    </tr>\n",
       "    <tr>\n",
       "      <th>2</th>\n",
       "      <td>894</td>\n",
       "      <td>2</td>\n",
       "      <td>Myles, Mr. Thomas Francis</td>\n",
       "      <td>male</td>\n",
       "      <td>62.0</td>\n",
       "      <td>0</td>\n",
       "      <td>0</td>\n",
       "      <td>240276</td>\n",
       "      <td>9.6875</td>\n",
       "      <td>NaN</td>\n",
       "      <td>Q</td>\n",
       "    </tr>\n",
       "    <tr>\n",
       "      <th>3</th>\n",
       "      <td>895</td>\n",
       "      <td>3</td>\n",
       "      <td>Wirz, Mr. Albert</td>\n",
       "      <td>male</td>\n",
       "      <td>27.0</td>\n",
       "      <td>0</td>\n",
       "      <td>0</td>\n",
       "      <td>315154</td>\n",
       "      <td>8.6625</td>\n",
       "      <td>NaN</td>\n",
       "      <td>S</td>\n",
       "    </tr>\n",
       "    <tr>\n",
       "      <th>4</th>\n",
       "      <td>896</td>\n",
       "      <td>3</td>\n",
       "      <td>Hirvonen, Mrs. Alexander (Helga E Lindqvist)</td>\n",
       "      <td>female</td>\n",
       "      <td>22.0</td>\n",
       "      <td>1</td>\n",
       "      <td>1</td>\n",
       "      <td>3101298</td>\n",
       "      <td>12.2875</td>\n",
       "      <td>NaN</td>\n",
       "      <td>S</td>\n",
       "    </tr>\n",
       "    <tr>\n",
       "      <th>...</th>\n",
       "      <td>...</td>\n",
       "      <td>...</td>\n",
       "      <td>...</td>\n",
       "      <td>...</td>\n",
       "      <td>...</td>\n",
       "      <td>...</td>\n",
       "      <td>...</td>\n",
       "      <td>...</td>\n",
       "      <td>...</td>\n",
       "      <td>...</td>\n",
       "      <td>...</td>\n",
       "    </tr>\n",
       "    <tr>\n",
       "      <th>413</th>\n",
       "      <td>1305</td>\n",
       "      <td>3</td>\n",
       "      <td>Spector, Mr. Woolf</td>\n",
       "      <td>male</td>\n",
       "      <td>NaN</td>\n",
       "      <td>0</td>\n",
       "      <td>0</td>\n",
       "      <td>A.5. 3236</td>\n",
       "      <td>8.0500</td>\n",
       "      <td>NaN</td>\n",
       "      <td>S</td>\n",
       "    </tr>\n",
       "    <tr>\n",
       "      <th>414</th>\n",
       "      <td>1306</td>\n",
       "      <td>1</td>\n",
       "      <td>Oliva y Ocana, Dona. Fermina</td>\n",
       "      <td>female</td>\n",
       "      <td>39.0</td>\n",
       "      <td>0</td>\n",
       "      <td>0</td>\n",
       "      <td>PC 17758</td>\n",
       "      <td>108.9000</td>\n",
       "      <td>C105</td>\n",
       "      <td>C</td>\n",
       "    </tr>\n",
       "    <tr>\n",
       "      <th>415</th>\n",
       "      <td>1307</td>\n",
       "      <td>3</td>\n",
       "      <td>Saether, Mr. Simon Sivertsen</td>\n",
       "      <td>male</td>\n",
       "      <td>38.5</td>\n",
       "      <td>0</td>\n",
       "      <td>0</td>\n",
       "      <td>SOTON/O.Q. 3101262</td>\n",
       "      <td>7.2500</td>\n",
       "      <td>NaN</td>\n",
       "      <td>S</td>\n",
       "    </tr>\n",
       "    <tr>\n",
       "      <th>416</th>\n",
       "      <td>1308</td>\n",
       "      <td>3</td>\n",
       "      <td>Ware, Mr. Frederick</td>\n",
       "      <td>male</td>\n",
       "      <td>NaN</td>\n",
       "      <td>0</td>\n",
       "      <td>0</td>\n",
       "      <td>359309</td>\n",
       "      <td>8.0500</td>\n",
       "      <td>NaN</td>\n",
       "      <td>S</td>\n",
       "    </tr>\n",
       "    <tr>\n",
       "      <th>417</th>\n",
       "      <td>1309</td>\n",
       "      <td>3</td>\n",
       "      <td>Peter, Master. Michael J</td>\n",
       "      <td>male</td>\n",
       "      <td>NaN</td>\n",
       "      <td>1</td>\n",
       "      <td>1</td>\n",
       "      <td>2668</td>\n",
       "      <td>22.3583</td>\n",
       "      <td>NaN</td>\n",
       "      <td>C</td>\n",
       "    </tr>\n",
       "  </tbody>\n",
       "</table>\n",
       "<p>418 rows × 11 columns</p>\n",
       "</div>"
      ],
      "text/plain": [
       "     PassengerId Pclass                                          Name     Sex  \\\n",
       "0            892      3                              Kelly, Mr. James    male   \n",
       "1            893      3              Wilkes, Mrs. James (Ellen Needs)  female   \n",
       "2            894      2                     Myles, Mr. Thomas Francis    male   \n",
       "3            895      3                              Wirz, Mr. Albert    male   \n",
       "4            896      3  Hirvonen, Mrs. Alexander (Helga E Lindqvist)  female   \n",
       "..           ...    ...                                           ...     ...   \n",
       "413         1305      3                            Spector, Mr. Woolf    male   \n",
       "414         1306      1                  Oliva y Ocana, Dona. Fermina  female   \n",
       "415         1307      3                  Saether, Mr. Simon Sivertsen    male   \n",
       "416         1308      3                           Ware, Mr. Frederick    male   \n",
       "417         1309      3                      Peter, Master. Michael J    male   \n",
       "\n",
       "      Age  SibSp  Parch              Ticket      Fare Cabin Embarked  \n",
       "0    34.5      0      0              330911    7.8292   NaN        Q  \n",
       "1    47.0      1      0              363272    7.0000   NaN        S  \n",
       "2    62.0      0      0              240276    9.6875   NaN        Q  \n",
       "3    27.0      0      0              315154    8.6625   NaN        S  \n",
       "4    22.0      1      1             3101298   12.2875   NaN        S  \n",
       "..    ...    ...    ...                 ...       ...   ...      ...  \n",
       "413   NaN      0      0           A.5. 3236    8.0500   NaN        S  \n",
       "414  39.0      0      0            PC 17758  108.9000  C105        C  \n",
       "415  38.5      0      0  SOTON/O.Q. 3101262    7.2500   NaN        S  \n",
       "416   NaN      0      0              359309    8.0500   NaN        S  \n",
       "417   NaN      1      1                2668   22.3583   NaN        C  \n",
       "\n",
       "[418 rows x 11 columns]"
      ]
     },
     "execution_count": 9,
     "metadata": {},
     "output_type": "execute_result"
    }
   ],
   "source": [
    "df_test"
   ]
  },
  {
   "cell_type": "code",
   "execution_count": 10,
   "metadata": {},
   "outputs": [
    {
     "data": {
      "text/plain": [
       "PassengerId    1.000000\n",
       "Survived       1.000000\n",
       "Pclass         1.000000\n",
       "Name           1.000000\n",
       "Sex            1.000000\n",
       "Age            0.801347\n",
       "SibSp          1.000000\n",
       "Parch          1.000000\n",
       "Ticket         1.000000\n",
       "Fare           1.000000\n",
       "Cabin          0.228956\n",
       "Embarked       0.997755\n",
       "dtype: float64"
      ]
     },
     "execution_count": 10,
     "metadata": {},
     "output_type": "execute_result"
    }
   ],
   "source": [
    "df_train.count()/df_train.shape[0]"
   ]
  },
  {
   "cell_type": "code",
   "execution_count": 11,
   "metadata": {},
   "outputs": [
    {
     "data": {
      "text/plain": [
       "array([[<AxesSubplot:title={'center':'PassengerId'}>,\n",
       "        <AxesSubplot:title={'center':'Survived'}>],\n",
       "       [<AxesSubplot:title={'center':'Age'}>,\n",
       "        <AxesSubplot:title={'center':'SibSp'}>],\n",
       "       [<AxesSubplot:title={'center':'Parch'}>,\n",
       "        <AxesSubplot:title={'center':'Fare'}>]], dtype=object)"
      ]
     },
     "execution_count": 11,
     "metadata": {},
     "output_type": "execute_result"
    },
    {
     "data": {
      "image/png": "[encoded data removed]",
      "text/plain": [
       "<Figure size 1000x1000 with 6 Axes>"
      ]
     },
     "metadata": {},
     "output_type": "display_data"
    }
   ],
   "source": [
    "df_train.hist(bins = 50, figsize=(10,10))"
   ]
  },
  {
   "cell_type": "code",
   "execution_count": 12,
   "metadata": {},
   "outputs": [],
   "source": [
    "imp = SimpleImputer(strategy='median')\n",
    "imp.fit(df_train[['Age']])\n",
    "df_train['Age'] = imp.transform(df_train[['Age']])\n",
    "df_test['Age'] = imp.transform(df_test[['Age']])\n",
    "\n",
    "imp.fit(df_train[['Fare']])\n",
    "df_test['Fare'] = imp.transform(df_test[['Fare']])\n",
    "\n",
    "imp = SimpleImputer(strategy='most_frequent')\n",
    "imp.fit(df_train[['Embarked']])\n",
    "df_train['Embarked'] = imp.transform(df_train[['Embarked']])"
   ]
  },
  {
   "cell_type": "code",
   "execution_count": 13,
   "metadata": {},
   "outputs": [
    {
     "data": {
      "text/plain": [
       "PassengerId    1.000000\n",
       "Survived       1.000000\n",
       "Pclass         1.000000\n",
       "Name           1.000000\n",
       "Sex            1.000000\n",
       "Age            1.000000\n",
       "SibSp          1.000000\n",
       "Parch          1.000000\n",
       "Ticket         1.000000\n",
       "Fare           1.000000\n",
       "Cabin          0.228956\n",
       "Embarked       1.000000\n",
       "dtype: float64"
      ]
     },
     "execution_count": 13,
     "metadata": {},
     "output_type": "execute_result"
    }
   ],
   "source": [
    "df_train.count()/df_train.shape[0]"
   ]
  },
  {
   "cell_type": "code",
   "execution_count": 14,
   "metadata": {},
   "outputs": [],
   "source": [
    "X_train = df_train.drop(columns = ['Survived'])\n",
    "y_train = df_train['Survived']\n",
    "X_test = df_test\n"
   ]
  },
  {
   "cell_type": "code",
   "execution_count": 15,
   "metadata": {},
   "outputs": [
    {
     "data": {
      "text/html": [
       "<div>\n",
       "<style scoped>\n",
       "    .dataframe tbody tr th:only-of-type {\n",
       "        vertical-align: middle;\n",
       "    }\n",
       "\n",
       "    .dataframe tbody tr th {\n",
       "        vertical-align: top;\n",
       "    }\n",
       "\n",
       "    .dataframe thead th {\n",
       "        text-align: right;\n",
       "    }\n",
       "</style>\n",
       "<table border=\"1\" class=\"dataframe\">\n",
       "  <thead>\n",
       "    <tr style=\"text-align: right;\">\n",
       "      <th></th>\n",
       "      <th>PassengerId</th>\n",
       "      <th>Pclass</th>\n",
       "      <th>Name</th>\n",
       "      <th>Sex</th>\n",
       "      <th>Age</th>\n",
       "      <th>SibSp</th>\n",
       "      <th>Parch</th>\n",
       "      <th>Ticket</th>\n",
       "      <th>Fare</th>\n",
       "      <th>Cabin</th>\n",
       "      <th>Embarked</th>\n",
       "    </tr>\n",
       "  </thead>\n",
       "  <tbody>\n",
       "    <tr>\n",
       "      <th>0</th>\n",
       "      <td>1</td>\n",
       "      <td>3</td>\n",
       "      <td>Braund, Mr. Owen Harris</td>\n",
       "      <td>male</td>\n",
       "      <td>22.0</td>\n",
       "      <td>1</td>\n",
       "      <td>0</td>\n",
       "      <td>A/5 21171</td>\n",
       "      <td>7.2500</td>\n",
       "      <td>NaN</td>\n",
       "      <td>S</td>\n",
       "    </tr>\n",
       "    <tr>\n",
       "      <th>1</th>\n",
       "      <td>2</td>\n",
       "      <td>1</td>\n",
       "      <td>Cumings, Mrs. John Bradley (Florence Briggs Th...</td>\n",
       "      <td>female</td>\n",
       "      <td>38.0</td>\n",
       "      <td>1</td>\n",
       "      <td>0</td>\n",
       "      <td>PC 17599</td>\n",
       "      <td>71.2833</td>\n",
       "      <td>C85</td>\n",
       "      <td>C</td>\n",
       "    </tr>\n",
       "    <tr>\n",
       "      <th>2</th>\n",
       "      <td>3</td>\n",
       "      <td>3</td>\n",
       "      <td>Heikkinen, Miss. Laina</td>\n",
       "      <td>female</td>\n",
       "      <td>26.0</td>\n",
       "      <td>0</td>\n",
       "      <td>0</td>\n",
       "      <td>STON/O2. 3101282</td>\n",
       "      <td>7.9250</td>\n",
       "      <td>NaN</td>\n",
       "      <td>S</td>\n",
       "    </tr>\n",
       "  </tbody>\n",
       "</table>\n",
       "</div>"
      ],
      "text/plain": [
       "   PassengerId Pclass                                               Name  \\\n",
       "0            1      3                            Braund, Mr. Owen Harris   \n",
       "1            2      1  Cumings, Mrs. John Bradley (Florence Briggs Th...   \n",
       "2            3      3                             Heikkinen, Miss. Laina   \n",
       "\n",
       "      Sex   Age  SibSp  Parch            Ticket     Fare Cabin Embarked  \n",
       "0    male  22.0      1      0         A/5 21171   7.2500   NaN        S  \n",
       "1  female  38.0      1      0          PC 17599  71.2833   C85        C  \n",
       "2  female  26.0      0      0  STON/O2. 3101282   7.9250   NaN        S  "
      ]
     },
     "execution_count": 15,
     "metadata": {},
     "output_type": "execute_result"
    }
   ],
   "source": [
    "X_train.head(3)"
   ]
  },
  {
   "cell_type": "code",
   "execution_count": 16,
   "metadata": {},
   "outputs": [
    {
     "name": "stdout",
     "output_type": "stream",
     "text": [
      "<class 'pandas.core.frame.DataFrame'>\n",
      "RangeIndex: 891 entries, 0 to 890\n",
      "Data columns (total 11 columns):\n",
      " #   Column       Non-Null Count  Dtype  \n",
      "---  ------       --------------  -----  \n",
      " 0   PassengerId  891 non-null    int64  \n",
      " 1   Pclass       891 non-null    object \n",
      " 2   Name         891 non-null    object \n",
      " 3   Sex          891 non-null    object \n",
      " 4   Age          891 non-null    float64\n",
      " 5   SibSp        891 non-null    int64  \n",
      " 6   Parch        891 non-null    int64  \n",
      " 7   Ticket       891 non-null    object \n",
      " 8   Fare         891 non-null    float64\n",
      " 9   Cabin        204 non-null    object \n",
      " 10  Embarked     891 non-null    object \n",
      "dtypes: float64(2), int64(3), object(6)\n",
      "memory usage: 76.7+ KB\n"
     ]
    }
   ],
   "source": [
    "X_train.info()"
   ]
  },
  {
   "cell_type": "code",
   "execution_count": 17,
   "metadata": {},
   "outputs": [
    {
     "name": "stdout",
     "output_type": "stream",
     "text": [
      "<class 'pandas.core.frame.DataFrame'>\n",
      "RangeIndex: 418 entries, 0 to 417\n",
      "Data columns (total 11 columns):\n",
      " #   Column       Non-Null Count  Dtype  \n",
      "---  ------       --------------  -----  \n",
      " 0   PassengerId  418 non-null    int64  \n",
      " 1   Pclass       418 non-null    object \n",
      " 2   Name         418 non-null    object \n",
      " 3   Sex          418 non-null    object \n",
      " 4   Age          418 non-null    float64\n",
      " 5   SibSp        418 non-null    int64  \n",
      " 6   Parch        418 non-null    int64  \n",
      " 7   Ticket       418 non-null    object \n",
      " 8   Fare         418 non-null    float64\n",
      " 9   Cabin        91 non-null     object \n",
      " 10  Embarked     418 non-null    object \n",
      "dtypes: float64(2), int64(3), object(6)\n",
      "memory usage: 36.0+ KB\n"
     ]
    }
   ],
   "source": [
    "X_test.info()"
   ]
  },
  {
   "cell_type": "code",
   "execution_count": 18,
   "metadata": {},
   "outputs": [
    {
     "data": {
      "text/plain": [
       "PassengerId    1.000000\n",
       "Pclass         1.000000\n",
       "Name           1.000000\n",
       "Sex            1.000000\n",
       "Age            1.000000\n",
       "SibSp          1.000000\n",
       "Parch          1.000000\n",
       "Ticket         1.000000\n",
       "Fare           1.000000\n",
       "Cabin          0.217703\n",
       "Embarked       1.000000\n",
       "dtype: float64"
      ]
     },
     "execution_count": 18,
     "metadata": {},
     "output_type": "execute_result"
    }
   ],
   "source": [
    "df_test.count()/df_test.shape[0]"
   ]
  },
  {
   "cell_type": "code",
   "execution_count": 19,
   "metadata": {},
   "outputs": [
    {
     "data": {
      "text/plain": [
       "Index(['PassengerId', 'Survived', 'Pclass', 'Name', 'Sex', 'Age', 'SibSp',\n",
       "       'Parch', 'Ticket', 'Fare', 'Cabin', 'Embarked'],\n",
       "      dtype='object')"
      ]
     },
     "execution_count": 19,
     "metadata": {},
     "output_type": "execute_result"
    }
   ],
   "source": [
    "df_train.columns"
   ]
  },
  {
   "cell_type": "code",
   "execution_count": 20,
   "metadata": {},
   "outputs": [],
   "source": [
    "df = df_train[['Survived', 'Pclass', 'Sex', 'Age',\n",
    "       'Parch', 'Fare', 'Embarked']]\n",
    "X = df.drop(columns = ['Survived'])\n",
    "y = df['Survived']\n",
    "X_train, X_test, y_train, y_test = train_test_split(X, y, test_size=0.33, random_state=42)"
   ]
  },
  {
   "cell_type": "code",
   "execution_count": 21,
   "metadata": {},
   "outputs": [],
   "source": [
    "X_train = pd.get_dummies(X_train)"
   ]
  },
  {
   "cell_type": "code",
   "execution_count": 22,
   "metadata": {},
   "outputs": [],
   "source": [
    "X_test = pd.get_dummies(X_test)"
   ]
  },
  {
   "cell_type": "code",
   "execution_count": 65,
   "metadata": {},
   "outputs": [],
   "source": [
    "X = pd.get_dummies(X)"
   ]
  },
  {
   "cell_type": "code",
   "execution_count": 92,
   "metadata": {},
   "outputs": [
    {
     "data": {
      "text/plain": [
       "Age           596\n",
       "Parch         596\n",
       "Fare          596\n",
       "Pclass_1      596\n",
       "Pclass_2      596\n",
       "Pclass_3      596\n",
       "Sex_female    596\n",
       "Sex_male      596\n",
       "Embarked_C    596\n",
       "Embarked_Q    596\n",
       "Embarked_S    596\n",
       "dtype: int64"
      ]
     },
     "execution_count": 92,
     "metadata": {},
     "output_type": "execute_result"
    }
   ],
   "source": [
    "X_train.isna().count()"
   ]
  },
  {
   "cell_type": "code",
   "execution_count": 38,
   "metadata": {},
   "outputs": [],
   "source": [
    "clf = DecisionTreeClassifier(max_depth = 10)"
   ]
  },
  {
   "cell_type": "code",
   "execution_count": 39,
   "metadata": {},
   "outputs": [
    {
     "data": {
      "text/html": [
       "<style>#sk-container-id-3 {color: black;background-color: white;}#sk-container-id-3 pre{padding: 0;}#sk-container-id-3 div.sk-toggleable {background-color: white;}#sk-container-id-3 label.sk-toggleable__label {cursor: pointer;display: block;width: 100%;margin-bottom: 0;padding: 0.3em;box-sizing: border-box;text-align: center;}#sk-container-id-3 label.sk-toggleable__label-arrow:before {content: \"▸\";float: left;margin-right: 0.25em;color: #696969;}#sk-container-id-3 label.sk-toggleable__label-arrow:hover:before {color: black;}#sk-container-id-3 div.sk-estimator:hover label.sk-toggleable__label-arrow:before {color: black;}#sk-container-id-3 div.sk-toggleable__content {max-height: 0;max-width: 0;overflow: hidden;text-align: left;background-color: #f0f8ff;}#sk-container-id-3 div.sk-toggleable__content pre {margin: 0.2em;color: black;border-radius: 0.25em;background-color: #f0f8ff;}#sk-container-id-3 input.sk-toggleable__control:checked~div.sk-toggleable__content {max-height: 200px;max-width: 100%;overflow: auto;}#sk-container-id-3 input.sk-toggleable__control:checked~label.sk-toggleable__label-arrow:before {content: \"▾\";}#sk-container-id-3 div.sk-estimator input.sk-toggleable__control:checked~label.sk-toggleable__label {background-color: #d4ebff;}#sk-container-id-3 div.sk-label input.sk-toggleable__control:checked~label.sk-toggleable__label {background-color: #d4ebff;}#sk-container-id-3 input.sk-hidden--visually {border: 0;clip: rect(1px 1px 1px 1px);clip: rect(1px, 1px, 1px, 1px);height: 1px;margin: -1px;overflow: hidden;padding: 0;position: absolute;width: 1px;}#sk-container-id-3 div.sk-estimator {font-family: monospace;background-color: #f0f8ff;border: 1px dotted black;border-radius: 0.25em;box-sizing: border-box;margin-bottom: 0.5em;}#sk-container-id-3 div.sk-estimator:hover {background-color: #d4ebff;}#sk-container-id-3 div.sk-parallel-item::after {content: \"\";width: 100%;border-bottom: 1px solid gray;flex-grow: 1;}#sk-container-id-3 div.sk-label:hover label.sk-toggleable__label {background-color: #d4ebff;}#sk-container-id-3 div.sk-serial::before {content: \"\";position: absolute;border-left: 1px solid gray;box-sizing: border-box;top: 0;bottom: 0;left: 50%;z-index: 0;}#sk-container-id-3 div.sk-serial {display: flex;flex-direction: column;align-items: center;background-color: white;padding-right: 0.2em;padding-left: 0.2em;position: relative;}#sk-container-id-3 div.sk-item {position: relative;z-index: 1;}#sk-container-id-3 div.sk-parallel {display: flex;align-items: stretch;justify-content: center;background-color: white;position: relative;}#sk-container-id-3 div.sk-item::before, #sk-container-id-3 div.sk-parallel-item::before {content: \"\";position: absolute;border-left: 1px solid gray;box-sizing: border-box;top: 0;bottom: 0;left: 50%;z-index: -1;}#sk-container-id-3 div.sk-parallel-item {display: flex;flex-direction: column;z-index: 1;position: relative;background-color: white;}#sk-container-id-3 div.sk-parallel-item:first-child::after {align-self: flex-end;width: 50%;}#sk-container-id-3 div.sk-parallel-item:last-child::after {align-self: flex-start;width: 50%;}#sk-container-id-3 div.sk-parallel-item:only-child::after {width: 0;}#sk-container-id-3 div.sk-dashed-wrapped {border: 1px dashed gray;margin: 0 0.4em 0.5em 0.4em;box-sizing: border-box;padding-bottom: 0.4em;background-color: white;}#sk-container-id-3 div.sk-label label {font-family: monospace;font-weight: bold;display: inline-block;line-height: 1.2em;}#sk-container-id-3 div.sk-label-container {text-align: center;}#sk-container-id-3 div.sk-container {/* jupyter's `normalize.less` sets `[hidden] { display: none; }` but bootstrap.min.css set `[hidden] { display: none !important; }` so we also need the `!important` here to be able to override the default hidden behavior on the sphinx rendered scikit-learn.org. See: https://github.com/scikit-learn/scikit-learn/issues/21755 */display: inline-block !important;position: relative;}#sk-container-id-3 div.sk-text-repr-fallback {display: none;}</style><div id=\"sk-container-id-3\" class=\"sk-top-container\"><div class=\"sk-text-repr-fallback\"><pre>DecisionTreeClassifier(max_depth=10)</pre><b>In a Jupyter environment, please rerun this cell to show the HTML representation or trust the notebook. <br />On GitHub, the HTML representation is unable to render, please try loading this page with nbviewer.org.</b></div><div class=\"sk-container\" hidden><div class=\"sk-item\"><div class=\"sk-estimator sk-toggleable\"><input class=\"sk-toggleable__control sk-hidden--visually\" id=\"sk-estimator-id-3\" type=\"checkbox\" checked><label for=\"sk-estimator-id-3\" class=\"sk-toggleable__label sk-toggleable__label-arrow\">DecisionTreeClassifier</label><div class=\"sk-toggleable__content\"><pre>DecisionTreeClassifier(max_depth=10)</pre></div></div></div></div></div>"
      ],
      "text/plain": [
       "DecisionTreeClassifier(max_depth=10)"
      ]
     },
     "execution_count": 39,
     "metadata": {},
     "output_type": "execute_result"
    }
   ],
   "source": [
    "clf.fit(X_train, y_train)"
   ]
  },
  {
   "cell_type": "code",
   "execution_count": 45,
   "metadata": {},
   "outputs": [],
   "source": [
    "parameters = {'max_depth':[1,2,3,5,4,6,7,8,9,10,15,20,25,30], 'criterion' :['gini', 'entropy', 'log_loss'], 'splitter' : ['best', 'random']}"
   ]
  },
  {
   "cell_type": "code",
   "execution_count": 83,
   "metadata": {},
   "outputs": [],
   "source": [
    "grid_clf = GridSearchCV(DecisionTreeClassifier(), parameters).fit(X_train, y_train)"
   ]
  },
  {
   "cell_type": "code",
   "execution_count": 84,
   "metadata": {},
   "outputs": [
    {
     "data": {
      "text/plain": [
       "{'criterion': 'log_loss', 'max_depth': 5, 'splitter': 'random'}"
      ]
     },
     "execution_count": 84,
     "metadata": {},
     "output_type": "execute_result"
    }
   ],
   "source": [
    "grid_clf.best_params_"
   ]
  },
  {
   "cell_type": "code",
   "execution_count": 85,
   "metadata": {},
   "outputs": [
    {
     "data": {
      "text/plain": [
       "0.8"
      ]
     },
     "execution_count": 85,
     "metadata": {},
     "output_type": "execute_result"
    }
   ],
   "source": [
    "grid_clf.best_estimator_.score(X_test, y_test)"
   ]
  },
  {
   "cell_type": "code",
   "execution_count": 86,
   "metadata": {},
   "outputs": [],
   "source": [
    "train_sizes, train_scores, test_scores = learning_curve(\n",
    "    estimator=grid_clf.best_estimator_,\n",
    "    X=X_train,\n",
    "    y=y_train,\n",
    "    cv=5,\n",
    "    scoring=\"accuracy\",\n",
    "    train_sizes = [5, 50, 100, 200, 300, 400, 450]\n",
    ")"
   ]
  },
  {
   "cell_type": "code",
   "execution_count": 87,
   "metadata": {},
   "outputs": [
    {
     "data": {
      "image/png": "[encoded data removed]",
      "text/plain": [
       "<Figure size 1000x800 with 1 Axes>"
      ]
     },
     "metadata": {},
     "output_type": "display_data"
    }
   ],
   "source": [
    "train_mean = train_scores.mean(axis=1)\n",
    "test_mean = test_scores.mean(axis=1)\n",
    "\n",
    "plt.subplots(figsize=(10,8))\n",
    "plt.plot(train_sizes, train_mean, label=\"train\", marker='o')\n",
    "plt.plot(train_sizes, test_mean, label=\"validation\", marker='o')\n",
    "\n",
    "plt.title(\"Learning Curve\")\n",
    "plt.xlabel(\"Training Set Size\")\n",
    "plt.ylabel(\"Accuracy\")\n",
    "plt.legend(loc=\"best\")\n",
    "plt.grid(True)\n",
    "plt.show()"
   ]
  },
  {
   "cell_type": "code",
   "execution_count": 88,
   "metadata": {},
   "outputs": [],
   "source": [
    "from sklearn.tree import export_graphviz\n",
    "export_graphviz(grid_clf.best_estimator_, out_file=\"titanic_tree.dot\", \n",
    "                feature_names=X_train.columns,\n",
    "                class_names=['dead','alive'], \n",
    "                rounded=True, filled=True)"
   ]
  },
  {
   "cell_type": "code",
   "execution_count": 89,
   "metadata": {},
   "outputs": [
    {
     "data": {
      "image/svg+xml": "<?xml version=\"1.0\" encoding=\"UTF-8\" standalone=\"no\"?>\n<!DOCTYPE svg PUBLIC \"-//W3C//DTD SVG 1.1//EN\"\n \"http://www.w3.org/Graphics/SVG/1.1/DTD/svg11.dtd\">\n<!-- Generated by graphviz version 2.43.0 (0)\n -->\n<!-- Title: Tree Pages: 1 -->\n<svg width=\"2698pt\" height=\"671pt\"\n viewBox=\"0.00 0.00 2698.00 671.00\" xmlns=\"http://www.w3.org/2000/svg\" xmlns:xlink=\"http://www.w3.org/1999/xlink\">\n<g id=\"graph0\" class=\"graph\" transform=\"scale(1 1) rotate(0) translate(4 667)\">\n<title>Tree</title>\n<polygon fill=\"white\" stroke=\"transparent\" points=\"-4,4 -4,-667 2694,-667 2694,4 -4,4\"/>\n<!-- 0 -->\n<g id=\"node1\" class=\"node\">\n<title>0</title>\n<path fill=\"#f4ccaf\" stroke=\"black\" d=\"M1439.5,-663C1439.5,-663 1307.5,-663 1307.5,-663 1301.5,-663 1295.5,-657 1295.5,-651 1295.5,-651 1295.5,-592 1295.5,-592 1295.5,-586 1301.5,-580 1307.5,-580 1307.5,-580 1439.5,-580 1439.5,-580 1445.5,-580 1451.5,-586 1451.5,-592 1451.5,-592 1451.5,-651 1451.5,-651 1451.5,-657 1445.5,-663 1439.5,-663\"/>\n<text text-anchor=\"middle\" x=\"1373.5\" y=\"-647.8\" font-family=\"Helvetica,sans-Serif\" font-size=\"14.00\">Sex_male &lt;= 0.967</text>\n<text text-anchor=\"middle\" x=\"1373.5\" y=\"-632.8\" font-family=\"Helvetica,sans-Serif\" font-size=\"14.00\">log_loss = 0.953</text>\n<text text-anchor=\"middle\" x=\"1373.5\" y=\"-617.8\" font-family=\"Helvetica,sans-Serif\" font-size=\"14.00\">samples = 596</text>\n<text text-anchor=\"middle\" x=\"1373.5\" y=\"-602.8\" font-family=\"Helvetica,sans-Serif\" font-size=\"14.00\">value = [374, 222]</text>\n<text text-anchor=\"middle\" x=\"1373.5\" y=\"-587.8\" font-family=\"Helvetica,sans-Serif\" font-size=\"14.00\">class = dead</text>\n</g>\n<!-- 1 -->\n<g id=\"node2\" class=\"node\">\n<title>1</title>\n<path fill=\"#85c2ef\" stroke=\"black\" d=\"M1142,-544C1142,-544 1017,-544 1017,-544 1011,-544 1005,-538 1005,-532 1005,-532 1005,-473 1005,-473 1005,-467 1011,-461 1017,-461 1017,-461 1142,-461 1142,-461 1148,-461 1154,-467 1154,-473 1154,-473 1154,-532 1154,-532 1154,-538 1148,-544 1142,-544\"/>\n<text text-anchor=\"middle\" x=\"1079.5\" y=\"-528.8\" font-family=\"Helvetica,sans-Serif\" font-size=\"14.00\">Pclass_3 &lt;= 0.412</text>\n<text text-anchor=\"middle\" x=\"1079.5\" y=\"-513.8\" font-family=\"Helvetica,sans-Serif\" font-size=\"14.00\">log_loss = 0.851</text>\n<text text-anchor=\"middle\" x=\"1079.5\" y=\"-498.8\" font-family=\"Helvetica,sans-Serif\" font-size=\"14.00\">samples = 206</text>\n<text text-anchor=\"middle\" x=\"1079.5\" y=\"-483.8\" font-family=\"Helvetica,sans-Serif\" font-size=\"14.00\">value = [57, 149]</text>\n<text text-anchor=\"middle\" x=\"1079.5\" y=\"-468.8\" font-family=\"Helvetica,sans-Serif\" font-size=\"14.00\">class = alive</text>\n</g>\n<!-- 0&#45;&gt;1 -->\n<g id=\"edge1\" class=\"edge\">\n<title>0&#45;&gt;1</title>\n<path fill=\"none\" stroke=\"black\" d=\"M1295.49,-589.45C1254.85,-573.28 1205.11,-553.49 1163.61,-536.97\"/>\n<polygon fill=\"black\" stroke=\"black\" points=\"1164.66,-533.62 1154.07,-533.18 1162.07,-540.13 1164.66,-533.62\"/>\n<text text-anchor=\"middle\" x=\"1163.96\" y=\"-552.44\" font-family=\"Helvetica,sans-Serif\" font-size=\"14.00\">True</text>\n</g>\n<!-- 24 -->\n<g id=\"node25\" class=\"node\">\n<title>24</title>\n<path fill=\"#eb9e67\" stroke=\"black\" d=\"M1749,-544C1749,-544 1596,-544 1596,-544 1590,-544 1584,-538 1584,-532 1584,-532 1584,-473 1584,-473 1584,-467 1590,-461 1596,-461 1596,-461 1749,-461 1749,-461 1755,-461 1761,-467 1761,-473 1761,-473 1761,-532 1761,-532 1761,-538 1755,-544 1749,-544\"/>\n<text text-anchor=\"middle\" x=\"1672.5\" y=\"-528.8\" font-family=\"Helvetica,sans-Serif\" font-size=\"14.00\">Embarked_C &lt;= 0.656</text>\n<text text-anchor=\"middle\" x=\"1672.5\" y=\"-513.8\" font-family=\"Helvetica,sans-Serif\" font-size=\"14.00\">log_loss = 0.696</text>\n<text text-anchor=\"middle\" x=\"1672.5\" y=\"-498.8\" font-family=\"Helvetica,sans-Serif\" font-size=\"14.00\">samples = 390</text>\n<text text-anchor=\"middle\" x=\"1672.5\" y=\"-483.8\" font-family=\"Helvetica,sans-Serif\" font-size=\"14.00\">value = [317, 73]</text>\n<text text-anchor=\"middle\" x=\"1672.5\" y=\"-468.8\" font-family=\"Helvetica,sans-Serif\" font-size=\"14.00\">class = dead</text>\n</g>\n<!-- 0&#45;&gt;24 -->\n<g id=\"edge24\" class=\"edge\">\n<title>0&#45;&gt;24</title>\n<path fill=\"none\" stroke=\"black\" d=\"M1451.67,-589.91C1489.23,-575.21 1534.64,-557.44 1574.49,-541.85\"/>\n<polygon fill=\"black\" stroke=\"black\" points=\"1575.93,-545.05 1583.96,-538.14 1573.38,-538.53 1575.93,-545.05\"/>\n<text text-anchor=\"middle\" x=\"1573.94\" y=\"-557.35\" font-family=\"Helvetica,sans-Serif\" font-size=\"14.00\">False</text>\n</g>\n<!-- 2 -->\n<g id=\"node3\" class=\"node\">\n<title>2</title>\n<path fill=\"#41a1e6\" stroke=\"black\" d=\"M568,-425C568,-425 455,-425 455,-425 449,-425 443,-419 443,-413 443,-413 443,-354 443,-354 443,-348 449,-342 455,-342 455,-342 568,-342 568,-342 574,-342 580,-348 580,-354 580,-354 580,-413 580,-413 580,-419 574,-425 568,-425\"/>\n<text text-anchor=\"middle\" x=\"511.5\" y=\"-409.8\" font-family=\"Helvetica,sans-Serif\" font-size=\"14.00\">Fare &lt;= 129.337</text>\n<text text-anchor=\"middle\" x=\"511.5\" y=\"-394.8\" font-family=\"Helvetica,sans-Serif\" font-size=\"14.00\">log_loss = 0.23</text>\n<text text-anchor=\"middle\" x=\"511.5\" y=\"-379.8\" font-family=\"Helvetica,sans-Serif\" font-size=\"14.00\">samples = 107</text>\n<text text-anchor=\"middle\" x=\"511.5\" y=\"-364.8\" font-family=\"Helvetica,sans-Serif\" font-size=\"14.00\">value = [4, 103]</text>\n<text text-anchor=\"middle\" x=\"511.5\" y=\"-349.8\" font-family=\"Helvetica,sans-Serif\" font-size=\"14.00\">class = alive</text>\n</g>\n<!-- 1&#45;&gt;2 -->\n<g id=\"edge2\" class=\"edge\">\n<title>1&#45;&gt;2</title>\n<path fill=\"none\" stroke=\"black\" d=\"M1004.95,-486.14C897.55,-464.02 700.14,-423.36 590.38,-400.75\"/>\n<polygon fill=\"black\" stroke=\"black\" points=\"590.86,-397.27 580.36,-398.68 589.45,-404.13 590.86,-397.27\"/>\n</g>\n<!-- 13 -->\n<g id=\"node14\" class=\"node\">\n<title>13</title>\n<path fill=\"#fceee5\" stroke=\"black\" d=\"M1155.5,-425C1155.5,-425 1003.5,-425 1003.5,-425 997.5,-425 991.5,-419 991.5,-413 991.5,-413 991.5,-354 991.5,-354 991.5,-348 997.5,-342 1003.5,-342 1003.5,-342 1155.5,-342 1155.5,-342 1161.5,-342 1167.5,-348 1167.5,-354 1167.5,-354 1167.5,-413 1167.5,-413 1167.5,-419 1161.5,-425 1155.5,-425\"/>\n<text text-anchor=\"middle\" x=\"1079.5\" y=\"-409.8\" font-family=\"Helvetica,sans-Serif\" font-size=\"14.00\">Embarked_S &lt;= 0.202</text>\n<text text-anchor=\"middle\" x=\"1079.5\" y=\"-394.8\" font-family=\"Helvetica,sans-Serif\" font-size=\"14.00\">log_loss = 0.996</text>\n<text text-anchor=\"middle\" x=\"1079.5\" y=\"-379.8\" font-family=\"Helvetica,sans-Serif\" font-size=\"14.00\">samples = 99</text>\n<text text-anchor=\"middle\" x=\"1079.5\" y=\"-364.8\" font-family=\"Helvetica,sans-Serif\" font-size=\"14.00\">value = [53, 46]</text>\n<text text-anchor=\"middle\" x=\"1079.5\" y=\"-349.8\" font-family=\"Helvetica,sans-Serif\" font-size=\"14.00\">class = dead</text>\n</g>\n<!-- 1&#45;&gt;13 -->\n<g id=\"edge13\" class=\"edge\">\n<title>1&#45;&gt;13</title>\n<path fill=\"none\" stroke=\"black\" d=\"M1079.5,-460.91C1079.5,-452.65 1079.5,-443.86 1079.5,-435.3\"/>\n<polygon fill=\"black\" stroke=\"black\" points=\"1083,-435.02 1079.5,-425.02 1076,-435.02 1083,-435.02\"/>\n</g>\n<!-- 3 -->\n<g id=\"node4\" class=\"node\">\n<title>3</title>\n<path fill=\"#3d9fe6\" stroke=\"black\" d=\"M351,-306C351,-306 242,-306 242,-306 236,-306 230,-300 230,-294 230,-294 230,-235 230,-235 230,-229 236,-223 242,-223 242,-223 351,-223 351,-223 357,-223 363,-229 363,-235 363,-235 363,-294 363,-294 363,-300 357,-306 351,-306\"/>\n<text text-anchor=\"middle\" x=\"296.5\" y=\"-290.8\" font-family=\"Helvetica,sans-Serif\" font-size=\"14.00\">Fare &lt;= 50.137</text>\n<text text-anchor=\"middle\" x=\"296.5\" y=\"-275.8\" font-family=\"Helvetica,sans-Serif\" font-size=\"14.00\">log_loss = 0.154</text>\n<text text-anchor=\"middle\" x=\"296.5\" y=\"-260.8\" font-family=\"Helvetica,sans-Serif\" font-size=\"14.00\">samples = 90</text>\n<text text-anchor=\"middle\" x=\"296.5\" y=\"-245.8\" font-family=\"Helvetica,sans-Serif\" font-size=\"14.00\">value = [2, 88]</text>\n<text text-anchor=\"middle\" x=\"296.5\" y=\"-230.8\" font-family=\"Helvetica,sans-Serif\" font-size=\"14.00\">class = alive</text>\n</g>\n<!-- 2&#45;&gt;3 -->\n<g id=\"edge3\" class=\"edge\">\n<title>2&#45;&gt;3</title>\n<path fill=\"none\" stroke=\"black\" d=\"M442.88,-345.16C420.42,-332.94 395.35,-319.29 372.39,-306.8\"/>\n<polygon fill=\"black\" stroke=\"black\" points=\"373.82,-303.59 363.37,-301.89 370.48,-309.74 373.82,-303.59\"/>\n</g>\n<!-- 8 -->\n<g id=\"node9\" class=\"node\">\n<title>8</title>\n<path fill=\"#53aae8\" stroke=\"black\" d=\"M566,-306C566,-306 457,-306 457,-306 451,-306 445,-300 445,-294 445,-294 445,-235 445,-235 445,-229 451,-223 457,-223 457,-223 566,-223 566,-223 572,-223 578,-229 578,-235 578,-235 578,-294 578,-294 578,-300 572,-306 566,-306\"/>\n<text text-anchor=\"middle\" x=\"511.5\" y=\"-290.8\" font-family=\"Helvetica,sans-Serif\" font-size=\"14.00\">Parch &lt;= 0.556</text>\n<text text-anchor=\"middle\" x=\"511.5\" y=\"-275.8\" font-family=\"Helvetica,sans-Serif\" font-size=\"14.00\">log_loss = 0.523</text>\n<text text-anchor=\"middle\" x=\"511.5\" y=\"-260.8\" font-family=\"Helvetica,sans-Serif\" font-size=\"14.00\">samples = 17</text>\n<text text-anchor=\"middle\" x=\"511.5\" y=\"-245.8\" font-family=\"Helvetica,sans-Serif\" font-size=\"14.00\">value = [2, 15]</text>\n<text text-anchor=\"middle\" x=\"511.5\" y=\"-230.8\" font-family=\"Helvetica,sans-Serif\" font-size=\"14.00\">class = alive</text>\n</g>\n<!-- 2&#45;&gt;8 -->\n<g id=\"edge8\" class=\"edge\">\n<title>2&#45;&gt;8</title>\n<path fill=\"none\" stroke=\"black\" d=\"M511.5,-341.91C511.5,-333.65 511.5,-324.86 511.5,-316.3\"/>\n<polygon fill=\"black\" stroke=\"black\" points=\"515,-316.02 511.5,-306.02 508,-316.02 515,-316.02\"/>\n</g>\n<!-- 4 -->\n<g id=\"node5\" class=\"node\">\n<title>4</title>\n<path fill=\"#41a1e6\" stroke=\"black\" d=\"M205,-187C205,-187 80,-187 80,-187 74,-187 68,-181 68,-175 68,-175 68,-116 68,-116 68,-110 74,-104 80,-104 80,-104 205,-104 205,-104 211,-104 217,-110 217,-116 217,-116 217,-175 217,-175 217,-181 211,-187 205,-187\"/>\n<text text-anchor=\"middle\" x=\"142.5\" y=\"-171.8\" font-family=\"Helvetica,sans-Serif\" font-size=\"14.00\">Pclass_2 &lt;= 0.301</text>\n<text text-anchor=\"middle\" x=\"142.5\" y=\"-156.8\" font-family=\"Helvetica,sans-Serif\" font-size=\"14.00\">log_loss = 0.232</text>\n<text text-anchor=\"middle\" x=\"142.5\" y=\"-141.8\" font-family=\"Helvetica,sans-Serif\" font-size=\"14.00\">samples = 53</text>\n<text text-anchor=\"middle\" x=\"142.5\" y=\"-126.8\" font-family=\"Helvetica,sans-Serif\" font-size=\"14.00\">value = [2, 51]</text>\n<text text-anchor=\"middle\" x=\"142.5\" y=\"-111.8\" font-family=\"Helvetica,sans-Serif\" font-size=\"14.00\">class = alive</text>\n</g>\n<!-- 3&#45;&gt;4 -->\n<g id=\"edge4\" class=\"edge\">\n<title>3&#45;&gt;4</title>\n<path fill=\"none\" stroke=\"black\" d=\"M243.07,-222.91C230.41,-213.29 216.81,-202.95 203.82,-193.09\"/>\n<polygon fill=\"black\" stroke=\"black\" points=\"205.92,-190.28 195.84,-187.02 201.68,-195.86 205.92,-190.28\"/>\n</g>\n<!-- 7 -->\n<g id=\"node8\" class=\"node\">\n<title>7</title>\n<path fill=\"#399de5\" stroke=\"black\" d=\"M345.5,-179.5C345.5,-179.5 247.5,-179.5 247.5,-179.5 241.5,-179.5 235.5,-173.5 235.5,-167.5 235.5,-167.5 235.5,-123.5 235.5,-123.5 235.5,-117.5 241.5,-111.5 247.5,-111.5 247.5,-111.5 345.5,-111.5 345.5,-111.5 351.5,-111.5 357.5,-117.5 357.5,-123.5 357.5,-123.5 357.5,-167.5 357.5,-167.5 357.5,-173.5 351.5,-179.5 345.5,-179.5\"/>\n<text text-anchor=\"middle\" x=\"296.5\" y=\"-164.3\" font-family=\"Helvetica,sans-Serif\" font-size=\"14.00\">log_loss = 0.0</text>\n<text text-anchor=\"middle\" x=\"296.5\" y=\"-149.3\" font-family=\"Helvetica,sans-Serif\" font-size=\"14.00\">samples = 37</text>\n<text text-anchor=\"middle\" x=\"296.5\" y=\"-134.3\" font-family=\"Helvetica,sans-Serif\" font-size=\"14.00\">value = [0, 37]</text>\n<text text-anchor=\"middle\" x=\"296.5\" y=\"-119.3\" font-family=\"Helvetica,sans-Serif\" font-size=\"14.00\">class = alive</text>\n</g>\n<!-- 3&#45;&gt;7 -->\n<g id=\"edge7\" class=\"edge\">\n<title>3&#45;&gt;7</title>\n<path fill=\"none\" stroke=\"black\" d=\"M296.5,-222.91C296.5,-212.2 296.5,-200.62 296.5,-189.78\"/>\n<polygon fill=\"black\" stroke=\"black\" points=\"300,-189.67 296.5,-179.67 293,-189.67 300,-189.67\"/>\n</g>\n<!-- 5 -->\n<g id=\"node6\" class=\"node\">\n<title>5</title>\n<path fill=\"#5aade9\" stroke=\"black\" d=\"M121,-68C121,-68 12,-68 12,-68 6,-68 0,-62 0,-56 0,-56 0,-12 0,-12 0,-6 6,0 12,0 12,0 121,0 121,0 127,0 133,-6 133,-12 133,-12 133,-56 133,-56 133,-62 127,-68 121,-68\"/>\n<text text-anchor=\"middle\" x=\"66.5\" y=\"-52.8\" font-family=\"Helvetica,sans-Serif\" font-size=\"14.00\">log_loss = 0.592</text>\n<text text-anchor=\"middle\" x=\"66.5\" y=\"-37.8\" font-family=\"Helvetica,sans-Serif\" font-size=\"14.00\">samples = 7</text>\n<text text-anchor=\"middle\" x=\"66.5\" y=\"-22.8\" font-family=\"Helvetica,sans-Serif\" font-size=\"14.00\">value = [1, 6]</text>\n<text text-anchor=\"middle\" x=\"66.5\" y=\"-7.8\" font-family=\"Helvetica,sans-Serif\" font-size=\"14.00\">class = alive</text>\n</g>\n<!-- 4&#45;&gt;5 -->\n<g id=\"edge5\" class=\"edge\">\n<title>4&#45;&gt;5</title>\n<path fill=\"none\" stroke=\"black\" d=\"M114.2,-103.73C108.06,-94.88 101.56,-85.51 95.39,-76.63\"/>\n<polygon fill=\"black\" stroke=\"black\" points=\"98.19,-74.52 89.61,-68.3 92.44,-78.51 98.19,-74.52\"/>\n</g>\n<!-- 6 -->\n<g id=\"node7\" class=\"node\">\n<title>6</title>\n<path fill=\"#3d9fe6\" stroke=\"black\" d=\"M272,-68C272,-68 163,-68 163,-68 157,-68 151,-62 151,-56 151,-56 151,-12 151,-12 151,-6 157,0 163,0 163,0 272,0 272,0 278,0 284,-6 284,-12 284,-12 284,-56 284,-56 284,-62 278,-68 272,-68\"/>\n<text text-anchor=\"middle\" x=\"217.5\" y=\"-52.8\" font-family=\"Helvetica,sans-Serif\" font-size=\"14.00\">log_loss = 0.151</text>\n<text text-anchor=\"middle\" x=\"217.5\" y=\"-37.8\" font-family=\"Helvetica,sans-Serif\" font-size=\"14.00\">samples = 46</text>\n<text text-anchor=\"middle\" x=\"217.5\" y=\"-22.8\" font-family=\"Helvetica,sans-Serif\" font-size=\"14.00\">value = [1, 45]</text>\n<text text-anchor=\"middle\" x=\"217.5\" y=\"-7.8\" font-family=\"Helvetica,sans-Serif\" font-size=\"14.00\">class = alive</text>\n</g>\n<!-- 4&#45;&gt;6 -->\n<g id=\"edge6\" class=\"edge\">\n<title>4&#45;&gt;6</title>\n<path fill=\"none\" stroke=\"black\" d=\"M170.43,-103.73C176.49,-94.88 182.9,-85.51 188.99,-76.63\"/>\n<polygon fill=\"black\" stroke=\"black\" points=\"191.93,-78.53 194.69,-68.3 186.15,-74.57 191.93,-78.53\"/>\n</g>\n<!-- 9 -->\n<g id=\"node10\" class=\"node\">\n<title>9</title>\n<path fill=\"#399de5\" stroke=\"black\" d=\"M479,-179.5C479,-179.5 388,-179.5 388,-179.5 382,-179.5 376,-173.5 376,-167.5 376,-167.5 376,-123.5 376,-123.5 376,-117.5 382,-111.5 388,-111.5 388,-111.5 479,-111.5 479,-111.5 485,-111.5 491,-117.5 491,-123.5 491,-123.5 491,-167.5 491,-167.5 491,-173.5 485,-179.5 479,-179.5\"/>\n<text text-anchor=\"middle\" x=\"433.5\" y=\"-164.3\" font-family=\"Helvetica,sans-Serif\" font-size=\"14.00\">log_loss = 0.0</text>\n<text text-anchor=\"middle\" x=\"433.5\" y=\"-149.3\" font-family=\"Helvetica,sans-Serif\" font-size=\"14.00\">samples = 8</text>\n<text text-anchor=\"middle\" x=\"433.5\" y=\"-134.3\" font-family=\"Helvetica,sans-Serif\" font-size=\"14.00\">value = [0, 8]</text>\n<text text-anchor=\"middle\" x=\"433.5\" y=\"-119.3\" font-family=\"Helvetica,sans-Serif\" font-size=\"14.00\">class = alive</text>\n</g>\n<!-- 8&#45;&gt;9 -->\n<g id=\"edge9\" class=\"edge\">\n<title>8&#45;&gt;9</title>\n<path fill=\"none\" stroke=\"black\" d=\"M484.44,-222.91C476.93,-211.65 468.78,-199.42 461.24,-188.11\"/>\n<polygon fill=\"black\" stroke=\"black\" points=\"464.07,-186.05 455.61,-179.67 458.25,-189.93 464.07,-186.05\"/>\n</g>\n<!-- 10 -->\n<g id=\"node11\" class=\"node\">\n<title>10</title>\n<path fill=\"#72b9ec\" stroke=\"black\" d=\"M630,-187C630,-187 521,-187 521,-187 515,-187 509,-181 509,-175 509,-175 509,-116 509,-116 509,-110 515,-104 521,-104 521,-104 630,-104 630,-104 636,-104 642,-110 642,-116 642,-116 642,-175 642,-175 642,-181 636,-187 630,-187\"/>\n<text text-anchor=\"middle\" x=\"575.5\" y=\"-171.8\" font-family=\"Helvetica,sans-Serif\" font-size=\"14.00\">Parch &lt;= 1.048</text>\n<text text-anchor=\"middle\" x=\"575.5\" y=\"-156.8\" font-family=\"Helvetica,sans-Serif\" font-size=\"14.00\">log_loss = 0.764</text>\n<text text-anchor=\"middle\" x=\"575.5\" y=\"-141.8\" font-family=\"Helvetica,sans-Serif\" font-size=\"14.00\">samples = 9</text>\n<text text-anchor=\"middle\" x=\"575.5\" y=\"-126.8\" font-family=\"Helvetica,sans-Serif\" font-size=\"14.00\">value = [2, 7]</text>\n<text text-anchor=\"middle\" x=\"575.5\" y=\"-111.8\" font-family=\"Helvetica,sans-Serif\" font-size=\"14.00\">class = alive</text>\n</g>\n<!-- 8&#45;&gt;10 -->\n<g id=\"edge10\" class=\"edge\">\n<title>8&#45;&gt;10</title>\n<path fill=\"none\" stroke=\"black\" d=\"M533.7,-222.91C538.47,-214.2 543.56,-204.9 548.48,-195.89\"/>\n<polygon fill=\"black\" stroke=\"black\" points=\"551.61,-197.47 553.33,-187.02 545.47,-194.11 551.61,-197.47\"/>\n</g>\n<!-- 11 -->\n<g id=\"node12\" class=\"node\">\n<title>11</title>\n<path fill=\"#399de5\" stroke=\"black\" d=\"M479,-68C479,-68 388,-68 388,-68 382,-68 376,-62 376,-56 376,-56 376,-12 376,-12 376,-6 382,0 388,0 388,0 479,0 479,0 485,0 491,-6 491,-12 491,-12 491,-56 491,-56 491,-62 485,-68 479,-68\"/>\n<text text-anchor=\"middle\" x=\"433.5\" y=\"-52.8\" font-family=\"Helvetica,sans-Serif\" font-size=\"14.00\">log_loss = 0.0</text>\n<text text-anchor=\"middle\" x=\"433.5\" y=\"-37.8\" font-family=\"Helvetica,sans-Serif\" font-size=\"14.00\">samples = 4</text>\n<text text-anchor=\"middle\" x=\"433.5\" y=\"-22.8\" font-family=\"Helvetica,sans-Serif\" font-size=\"14.00\">value = [0, 4]</text>\n<text text-anchor=\"middle\" x=\"433.5\" y=\"-7.8\" font-family=\"Helvetica,sans-Serif\" font-size=\"14.00\">class = alive</text>\n</g>\n<!-- 10&#45;&gt;11 -->\n<g id=\"edge11\" class=\"edge\">\n<title>10&#45;&gt;11</title>\n<path fill=\"none\" stroke=\"black\" d=\"M522.62,-103.73C510.21,-94.15 496.99,-83.96 484.65,-74.44\"/>\n<polygon fill=\"black\" stroke=\"black\" points=\"486.74,-71.63 476.68,-68.3 482.46,-77.18 486.74,-71.63\"/>\n</g>\n<!-- 12 -->\n<g id=\"node13\" class=\"node\">\n<title>12</title>\n<path fill=\"#bddef6\" stroke=\"black\" d=\"M630,-68C630,-68 521,-68 521,-68 515,-68 509,-62 509,-56 509,-56 509,-12 509,-12 509,-6 515,0 521,0 521,0 630,0 630,0 636,0 642,-6 642,-12 642,-12 642,-56 642,-56 642,-62 636,-68 630,-68\"/>\n<text text-anchor=\"middle\" x=\"575.5\" y=\"-52.8\" font-family=\"Helvetica,sans-Serif\" font-size=\"14.00\">log_loss = 0.971</text>\n<text text-anchor=\"middle\" x=\"575.5\" y=\"-37.8\" font-family=\"Helvetica,sans-Serif\" font-size=\"14.00\">samples = 5</text>\n<text text-anchor=\"middle\" x=\"575.5\" y=\"-22.8\" font-family=\"Helvetica,sans-Serif\" font-size=\"14.00\">value = [2, 3]</text>\n<text text-anchor=\"middle\" x=\"575.5\" y=\"-7.8\" font-family=\"Helvetica,sans-Serif\" font-size=\"14.00\">class = alive</text>\n</g>\n<!-- 10&#45;&gt;12 -->\n<g id=\"edge12\" class=\"edge\">\n<title>10&#45;&gt;12</title>\n<path fill=\"none\" stroke=\"black\" d=\"M575.5,-103.73C575.5,-95.52 575.5,-86.86 575.5,-78.56\"/>\n<polygon fill=\"black\" stroke=\"black\" points=\"579,-78.3 575.5,-68.3 572,-78.3 579,-78.3\"/>\n</g>\n<!-- 14 -->\n<g id=\"node15\" class=\"node\">\n<title>14</title>\n<path fill=\"#8bc6f0\" stroke=\"black\" d=\"M1059,-306C1059,-306 950,-306 950,-306 944,-306 938,-300 938,-294 938,-294 938,-235 938,-235 938,-229 944,-223 950,-223 950,-223 1059,-223 1059,-223 1065,-223 1071,-229 1071,-235 1071,-235 1071,-294 1071,-294 1071,-300 1065,-306 1059,-306\"/>\n<text text-anchor=\"middle\" x=\"1004.5\" y=\"-290.8\" font-family=\"Helvetica,sans-Serif\" font-size=\"14.00\">Fare &lt;= 16.385</text>\n<text text-anchor=\"middle\" x=\"1004.5\" y=\"-275.8\" font-family=\"Helvetica,sans-Serif\" font-size=\"14.00\">log_loss = 0.874</text>\n<text text-anchor=\"middle\" x=\"1004.5\" y=\"-260.8\" font-family=\"Helvetica,sans-Serif\" font-size=\"14.00\">samples = 34</text>\n<text text-anchor=\"middle\" x=\"1004.5\" y=\"-245.8\" font-family=\"Helvetica,sans-Serif\" font-size=\"14.00\">value = [10, 24]</text>\n<text text-anchor=\"middle\" x=\"1004.5\" y=\"-230.8\" font-family=\"Helvetica,sans-Serif\" font-size=\"14.00\">class = alive</text>\n</g>\n<!-- 13&#45;&gt;14 -->\n<g id=\"edge14\" class=\"edge\">\n<title>13&#45;&gt;14</title>\n<path fill=\"none\" stroke=\"black\" d=\"M1053.48,-341.91C1047.84,-333.1 1041.81,-323.7 1035.98,-314.61\"/>\n<polygon fill=\"black\" stroke=\"black\" points=\"1038.82,-312.55 1030.47,-306.02 1032.93,-316.33 1038.82,-312.55\"/>\n</g>\n<!-- 19 -->\n<g id=\"node20\" class=\"node\">\n<title>19</title>\n<path fill=\"#f2c19e\" stroke=\"black\" d=\"M1210,-306C1210,-306 1101,-306 1101,-306 1095,-306 1089,-300 1089,-294 1089,-294 1089,-235 1089,-235 1089,-229 1095,-223 1101,-223 1101,-223 1210,-223 1210,-223 1216,-223 1222,-229 1222,-235 1222,-235 1222,-294 1222,-294 1222,-300 1216,-306 1210,-306\"/>\n<text text-anchor=\"middle\" x=\"1155.5\" y=\"-290.8\" font-family=\"Helvetica,sans-Serif\" font-size=\"14.00\">Parch &lt;= 4.092</text>\n<text text-anchor=\"middle\" x=\"1155.5\" y=\"-275.8\" font-family=\"Helvetica,sans-Serif\" font-size=\"14.00\">log_loss = 0.923</text>\n<text text-anchor=\"middle\" x=\"1155.5\" y=\"-260.8\" font-family=\"Helvetica,sans-Serif\" font-size=\"14.00\">samples = 65</text>\n<text text-anchor=\"middle\" x=\"1155.5\" y=\"-245.8\" font-family=\"Helvetica,sans-Serif\" font-size=\"14.00\">value = [43, 22]</text>\n<text text-anchor=\"middle\" x=\"1155.5\" y=\"-230.8\" font-family=\"Helvetica,sans-Serif\" font-size=\"14.00\">class = dead</text>\n</g>\n<!-- 13&#45;&gt;19 -->\n<g id=\"edge19\" class=\"edge\">\n<title>13&#45;&gt;19</title>\n<path fill=\"none\" stroke=\"black\" d=\"M1105.87,-341.91C1111.59,-333.1 1117.69,-323.7 1123.6,-314.61\"/>\n<polygon fill=\"black\" stroke=\"black\" points=\"1126.67,-316.31 1129.18,-306.02 1120.8,-312.5 1126.67,-316.31\"/>\n</g>\n<!-- 15 -->\n<g id=\"node16\" class=\"node\">\n<title>15</title>\n<path fill=\"#a1d1f3\" stroke=\"black\" d=\"M921,-187C921,-187 812,-187 812,-187 806,-187 800,-181 800,-175 800,-175 800,-116 800,-116 800,-110 806,-104 812,-104 812,-104 921,-104 921,-104 927,-104 933,-110 933,-116 933,-116 933,-175 933,-175 933,-181 927,-187 921,-187\"/>\n<text text-anchor=\"middle\" x=\"866.5\" y=\"-171.8\" font-family=\"Helvetica,sans-Serif\" font-size=\"14.00\">Fare &lt;= 13.68</text>\n<text text-anchor=\"middle\" x=\"866.5\" y=\"-156.8\" font-family=\"Helvetica,sans-Serif\" font-size=\"14.00\">log_loss = 0.929</text>\n<text text-anchor=\"middle\" x=\"866.5\" y=\"-141.8\" font-family=\"Helvetica,sans-Serif\" font-size=\"14.00\">samples = 29</text>\n<text text-anchor=\"middle\" x=\"866.5\" y=\"-126.8\" font-family=\"Helvetica,sans-Serif\" font-size=\"14.00\">value = [10, 19]</text>\n<text text-anchor=\"middle\" x=\"866.5\" y=\"-111.8\" font-family=\"Helvetica,sans-Serif\" font-size=\"14.00\">class = alive</text>\n</g>\n<!-- 14&#45;&gt;15 -->\n<g id=\"edge15\" class=\"edge\">\n<title>14&#45;&gt;15</title>\n<path fill=\"none\" stroke=\"black\" d=\"M956.62,-222.91C945.49,-213.47 933.55,-203.34 922.11,-193.65\"/>\n<polygon fill=\"black\" stroke=\"black\" points=\"924.18,-190.82 914.29,-187.02 919.66,-196.16 924.18,-190.82\"/>\n</g>\n<!-- 18 -->\n<g id=\"node19\" class=\"node\">\n<title>18</title>\n<path fill=\"#399de5\" stroke=\"black\" d=\"M1054,-179.5C1054,-179.5 963,-179.5 963,-179.5 957,-179.5 951,-173.5 951,-167.5 951,-167.5 951,-123.5 951,-123.5 951,-117.5 957,-111.5 963,-111.5 963,-111.5 1054,-111.5 1054,-111.5 1060,-111.5 1066,-117.5 1066,-123.5 1066,-123.5 1066,-167.5 1066,-167.5 1066,-173.5 1060,-179.5 1054,-179.5\"/>\n<text text-anchor=\"middle\" x=\"1008.5\" y=\"-164.3\" font-family=\"Helvetica,sans-Serif\" font-size=\"14.00\">log_loss = 0.0</text>\n<text text-anchor=\"middle\" x=\"1008.5\" y=\"-149.3\" font-family=\"Helvetica,sans-Serif\" font-size=\"14.00\">samples = 5</text>\n<text text-anchor=\"middle\" x=\"1008.5\" y=\"-134.3\" font-family=\"Helvetica,sans-Serif\" font-size=\"14.00\">value = [0, 5]</text>\n<text text-anchor=\"middle\" x=\"1008.5\" y=\"-119.3\" font-family=\"Helvetica,sans-Serif\" font-size=\"14.00\">class = alive</text>\n</g>\n<!-- 14&#45;&gt;18 -->\n<g id=\"edge18\" class=\"edge\">\n<title>14&#45;&gt;18</title>\n<path fill=\"none\" stroke=\"black\" d=\"M1005.89,-222.91C1006.25,-212.2 1006.65,-200.62 1007.02,-189.78\"/>\n<polygon fill=\"black\" stroke=\"black\" points=\"1010.52,-189.78 1007.37,-179.67 1003.53,-189.54 1010.52,-189.78\"/>\n</g>\n<!-- 16 -->\n<g id=\"node17\" class=\"node\">\n<title>16</title>\n<path fill=\"#88c4ef\" stroke=\"black\" d=\"M781,-68C781,-68 672,-68 672,-68 666,-68 660,-62 660,-56 660,-56 660,-12 660,-12 660,-6 666,0 672,0 672,0 781,0 781,0 787,0 793,-6 793,-12 793,-12 793,-56 793,-56 793,-62 787,-68 781,-68\"/>\n<text text-anchor=\"middle\" x=\"726.5\" y=\"-52.8\" font-family=\"Helvetica,sans-Serif\" font-size=\"14.00\">log_loss = 0.863</text>\n<text text-anchor=\"middle\" x=\"726.5\" y=\"-37.8\" font-family=\"Helvetica,sans-Serif\" font-size=\"14.00\">samples = 21</text>\n<text text-anchor=\"middle\" x=\"726.5\" y=\"-22.8\" font-family=\"Helvetica,sans-Serif\" font-size=\"14.00\">value = [6, 15]</text>\n<text text-anchor=\"middle\" x=\"726.5\" y=\"-7.8\" font-family=\"Helvetica,sans-Serif\" font-size=\"14.00\">class = alive</text>\n</g>\n<!-- 15&#45;&gt;16 -->\n<g id=\"edge16\" class=\"edge\">\n<title>15&#45;&gt;16</title>\n<path fill=\"none\" stroke=\"black\" d=\"M814.37,-103.73C802.24,-94.24 789.35,-84.16 777.28,-74.72\"/>\n<polygon fill=\"black\" stroke=\"black\" points=\"779.11,-71.7 769.07,-68.3 774.8,-77.22 779.11,-71.7\"/>\n</g>\n<!-- 17 -->\n<g id=\"node18\" class=\"node\">\n<title>17</title>\n<path fill=\"#ffffff\" stroke=\"black\" d=\"M914,-68C914,-68 823,-68 823,-68 817,-68 811,-62 811,-56 811,-56 811,-12 811,-12 811,-6 817,0 823,0 823,0 914,0 914,0 920,0 926,-6 926,-12 926,-12 926,-56 926,-56 926,-62 920,-68 914,-68\"/>\n<text text-anchor=\"middle\" x=\"868.5\" y=\"-52.8\" font-family=\"Helvetica,sans-Serif\" font-size=\"14.00\">log_loss = 1.0</text>\n<text text-anchor=\"middle\" x=\"868.5\" y=\"-37.8\" font-family=\"Helvetica,sans-Serif\" font-size=\"14.00\">samples = 8</text>\n<text text-anchor=\"middle\" x=\"868.5\" y=\"-22.8\" font-family=\"Helvetica,sans-Serif\" font-size=\"14.00\">value = [4, 4]</text>\n<text text-anchor=\"middle\" x=\"868.5\" y=\"-7.8\" font-family=\"Helvetica,sans-Serif\" font-size=\"14.00\">class = dead</text>\n</g>\n<!-- 15&#45;&gt;17 -->\n<g id=\"edge17\" class=\"edge\">\n<title>15&#45;&gt;17</title>\n<path fill=\"none\" stroke=\"black\" d=\"M867.24,-103.73C867.39,-95.52 867.55,-86.86 867.7,-78.56\"/>\n<polygon fill=\"black\" stroke=\"black\" points=\"871.21,-78.36 867.89,-68.3 864.21,-78.23 871.21,-78.36\"/>\n</g>\n<!-- 20 -->\n<g id=\"node21\" class=\"node\">\n<title>20</title>\n<path fill=\"#f3c6a6\" stroke=\"black\" d=\"M1207,-187C1207,-187 1098,-187 1098,-187 1092,-187 1086,-181 1086,-175 1086,-175 1086,-116 1086,-116 1086,-110 1092,-104 1098,-104 1098,-104 1207,-104 1207,-104 1213,-104 1219,-110 1219,-116 1219,-116 1219,-175 1219,-175 1219,-181 1213,-187 1207,-187\"/>\n<text text-anchor=\"middle\" x=\"1152.5\" y=\"-171.8\" font-family=\"Helvetica,sans-Serif\" font-size=\"14.00\">Fare &lt;= 45.691</text>\n<text text-anchor=\"middle\" x=\"1152.5\" y=\"-156.8\" font-family=\"Helvetica,sans-Serif\" font-size=\"14.00\">log_loss = 0.938</text>\n<text text-anchor=\"middle\" x=\"1152.5\" y=\"-141.8\" font-family=\"Helvetica,sans-Serif\" font-size=\"14.00\">samples = 62</text>\n<text text-anchor=\"middle\" x=\"1152.5\" y=\"-126.8\" font-family=\"Helvetica,sans-Serif\" font-size=\"14.00\">value = [40, 22]</text>\n<text text-anchor=\"middle\" x=\"1152.5\" y=\"-111.8\" font-family=\"Helvetica,sans-Serif\" font-size=\"14.00\">class = dead</text>\n</g>\n<!-- 19&#45;&gt;20 -->\n<g id=\"edge20\" class=\"edge\">\n<title>19&#45;&gt;20</title>\n<path fill=\"none\" stroke=\"black\" d=\"M1154.46,-222.91C1154.25,-214.56 1154.02,-205.67 1153.8,-197.02\"/>\n<polygon fill=\"black\" stroke=\"black\" points=\"1157.29,-196.93 1153.54,-187.02 1150.3,-197.11 1157.29,-196.93\"/>\n</g>\n<!-- 23 -->\n<g id=\"node24\" class=\"node\">\n<title>23</title>\n<path fill=\"#e58139\" stroke=\"black\" d=\"M1340,-179.5C1340,-179.5 1249,-179.5 1249,-179.5 1243,-179.5 1237,-173.5 1237,-167.5 1237,-167.5 1237,-123.5 1237,-123.5 1237,-117.5 1243,-111.5 1249,-111.5 1249,-111.5 1340,-111.5 1340,-111.5 1346,-111.5 1352,-117.5 1352,-123.5 1352,-123.5 1352,-167.5 1352,-167.5 1352,-173.5 1346,-179.5 1340,-179.5\"/>\n<text text-anchor=\"middle\" x=\"1294.5\" y=\"-164.3\" font-family=\"Helvetica,sans-Serif\" font-size=\"14.00\">log_loss = 0.0</text>\n<text text-anchor=\"middle\" x=\"1294.5\" y=\"-149.3\" font-family=\"Helvetica,sans-Serif\" font-size=\"14.00\">samples = 3</text>\n<text text-anchor=\"middle\" x=\"1294.5\" y=\"-134.3\" font-family=\"Helvetica,sans-Serif\" font-size=\"14.00\">value = [3, 0]</text>\n<text text-anchor=\"middle\" x=\"1294.5\" y=\"-119.3\" font-family=\"Helvetica,sans-Serif\" font-size=\"14.00\">class = dead</text>\n</g>\n<!-- 19&#45;&gt;23 -->\n<g id=\"edge23\" class=\"edge\">\n<title>19&#45;&gt;23</title>\n<path fill=\"none\" stroke=\"black\" d=\"M1203.73,-222.91C1217.88,-210.99 1233.35,-197.98 1247.43,-186.12\"/>\n<polygon fill=\"black\" stroke=\"black\" points=\"1249.7,-188.78 1255.1,-179.67 1245.19,-183.43 1249.7,-188.78\"/>\n</g>\n<!-- 21 -->\n<g id=\"node22\" class=\"node\">\n<title>21</title>\n<path fill=\"#f5ceb2\" stroke=\"black\" d=\"M1065,-68C1065,-68 956,-68 956,-68 950,-68 944,-62 944,-56 944,-56 944,-12 944,-12 944,-6 950,0 956,0 956,0 1065,0 1065,0 1071,0 1077,-6 1077,-12 1077,-12 1077,-56 1077,-56 1077,-62 1071,-68 1065,-68\"/>\n<text text-anchor=\"middle\" x=\"1010.5\" y=\"-52.8\" font-family=\"Helvetica,sans-Serif\" font-size=\"14.00\">log_loss = 0.958</text>\n<text text-anchor=\"middle\" x=\"1010.5\" y=\"-37.8\" font-family=\"Helvetica,sans-Serif\" font-size=\"14.00\">samples = 58</text>\n<text text-anchor=\"middle\" x=\"1010.5\" y=\"-22.8\" font-family=\"Helvetica,sans-Serif\" font-size=\"14.00\">value = [36, 22]</text>\n<text text-anchor=\"middle\" x=\"1010.5\" y=\"-7.8\" font-family=\"Helvetica,sans-Serif\" font-size=\"14.00\">class = dead</text>\n</g>\n<!-- 20&#45;&gt;21 -->\n<g id=\"edge21\" class=\"edge\">\n<title>20&#45;&gt;21</title>\n<path fill=\"none\" stroke=\"black\" d=\"M1099.62,-103.73C1087.21,-94.15 1073.99,-83.96 1061.65,-74.44\"/>\n<polygon fill=\"black\" stroke=\"black\" points=\"1063.74,-71.63 1053.68,-68.3 1059.46,-77.18 1063.74,-71.63\"/>\n</g>\n<!-- 22 -->\n<g id=\"node23\" class=\"node\">\n<title>22</title>\n<path fill=\"#e58139\" stroke=\"black\" d=\"M1198,-68C1198,-68 1107,-68 1107,-68 1101,-68 1095,-62 1095,-56 1095,-56 1095,-12 1095,-12 1095,-6 1101,0 1107,0 1107,0 1198,0 1198,0 1204,0 1210,-6 1210,-12 1210,-12 1210,-56 1210,-56 1210,-62 1204,-68 1198,-68\"/>\n<text text-anchor=\"middle\" x=\"1152.5\" y=\"-52.8\" font-family=\"Helvetica,sans-Serif\" font-size=\"14.00\">log_loss = 0.0</text>\n<text text-anchor=\"middle\" x=\"1152.5\" y=\"-37.8\" font-family=\"Helvetica,sans-Serif\" font-size=\"14.00\">samples = 4</text>\n<text text-anchor=\"middle\" x=\"1152.5\" y=\"-22.8\" font-family=\"Helvetica,sans-Serif\" font-size=\"14.00\">value = [4, 0]</text>\n<text text-anchor=\"middle\" x=\"1152.5\" y=\"-7.8\" font-family=\"Helvetica,sans-Serif\" font-size=\"14.00\">class = dead</text>\n</g>\n<!-- 20&#45;&gt;22 -->\n<g id=\"edge22\" class=\"edge\">\n<title>20&#45;&gt;22</title>\n<path fill=\"none\" stroke=\"black\" d=\"M1152.5,-103.73C1152.5,-95.52 1152.5,-86.86 1152.5,-78.56\"/>\n<polygon fill=\"black\" stroke=\"black\" points=\"1156,-78.3 1152.5,-68.3 1149,-78.3 1156,-78.3\"/>\n</g>\n<!-- 25 -->\n<g id=\"node26\" class=\"node\">\n<title>25</title>\n<path fill=\"#ea995e\" stroke=\"black\" d=\"M1735,-425C1735,-425 1610,-425 1610,-425 1604,-425 1598,-419 1598,-413 1598,-413 1598,-354 1598,-354 1598,-348 1604,-342 1610,-342 1610,-342 1735,-342 1735,-342 1741,-342 1747,-348 1747,-354 1747,-354 1747,-413 1747,-413 1747,-419 1741,-425 1735,-425\"/>\n<text text-anchor=\"middle\" x=\"1672.5\" y=\"-409.8\" font-family=\"Helvetica,sans-Serif\" font-size=\"14.00\">Pclass_1 &lt;= 0.956</text>\n<text text-anchor=\"middle\" x=\"1672.5\" y=\"-394.8\" font-family=\"Helvetica,sans-Serif\" font-size=\"14.00\">log_loss = 0.63</text>\n<text text-anchor=\"middle\" x=\"1672.5\" y=\"-379.8\" font-family=\"Helvetica,sans-Serif\" font-size=\"14.00\">samples = 329</text>\n<text text-anchor=\"middle\" x=\"1672.5\" y=\"-364.8\" font-family=\"Helvetica,sans-Serif\" font-size=\"14.00\">value = [277, 52]</text>\n<text text-anchor=\"middle\" x=\"1672.5\" y=\"-349.8\" font-family=\"Helvetica,sans-Serif\" font-size=\"14.00\">class = dead</text>\n</g>\n<!-- 24&#45;&gt;25 -->\n<g id=\"edge25\" class=\"edge\">\n<title>24&#45;&gt;25</title>\n<path fill=\"none\" stroke=\"black\" d=\"M1672.5,-460.91C1672.5,-452.65 1672.5,-443.86 1672.5,-435.3\"/>\n<polygon fill=\"black\" stroke=\"black\" points=\"1676,-435.02 1672.5,-425.02 1669,-435.02 1676,-435.02\"/>\n</g>\n<!-- 36 -->\n<g id=\"node37\" class=\"node\">\n<title>36</title>\n<path fill=\"#f3c3a1\" stroke=\"black\" d=\"M2180,-425C2180,-425 2071,-425 2071,-425 2065,-425 2059,-419 2059,-413 2059,-413 2059,-354 2059,-354 2059,-348 2065,-342 2071,-342 2071,-342 2180,-342 2180,-342 2186,-342 2192,-348 2192,-354 2192,-354 2192,-413 2192,-413 2192,-419 2186,-425 2180,-425\"/>\n<text text-anchor=\"middle\" x=\"2125.5\" y=\"-409.8\" font-family=\"Helvetica,sans-Serif\" font-size=\"14.00\">Fare &lt;= 49.499</text>\n<text text-anchor=\"middle\" x=\"2125.5\" y=\"-394.8\" font-family=\"Helvetica,sans-Serif\" font-size=\"14.00\">log_loss = 0.929</text>\n<text text-anchor=\"middle\" x=\"2125.5\" y=\"-379.8\" font-family=\"Helvetica,sans-Serif\" font-size=\"14.00\">samples = 61</text>\n<text text-anchor=\"middle\" x=\"2125.5\" y=\"-364.8\" font-family=\"Helvetica,sans-Serif\" font-size=\"14.00\">value = [40, 21]</text>\n<text text-anchor=\"middle\" x=\"2125.5\" y=\"-349.8\" font-family=\"Helvetica,sans-Serif\" font-size=\"14.00\">class = dead</text>\n</g>\n<!-- 24&#45;&gt;36 -->\n<g id=\"edge36\" class=\"edge\">\n<title>24&#45;&gt;36</title>\n<path fill=\"none\" stroke=\"black\" d=\"M1761.19,-478.59C1844.92,-456.97 1969.2,-424.87 2048.78,-404.32\"/>\n<polygon fill=\"black\" stroke=\"black\" points=\"2049.93,-407.63 2058.73,-401.74 2048.18,-400.86 2049.93,-407.63\"/>\n</g>\n<!-- 26 -->\n<g id=\"node27\" class=\"node\">\n<title>26</title>\n<path fill=\"#e9965a\" stroke=\"black\" d=\"M1653.5,-306C1653.5,-306 1537.5,-306 1537.5,-306 1531.5,-306 1525.5,-300 1525.5,-294 1525.5,-294 1525.5,-235 1525.5,-235 1525.5,-229 1531.5,-223 1537.5,-223 1537.5,-223 1653.5,-223 1653.5,-223 1659.5,-223 1665.5,-229 1665.5,-235 1665.5,-235 1665.5,-294 1665.5,-294 1665.5,-300 1659.5,-306 1653.5,-306\"/>\n<text text-anchor=\"middle\" x=\"1595.5\" y=\"-290.8\" font-family=\"Helvetica,sans-Serif\" font-size=\"14.00\">Age &lt;= 62.444</text>\n<text text-anchor=\"middle\" x=\"1595.5\" y=\"-275.8\" font-family=\"Helvetica,sans-Serif\" font-size=\"14.00\">log_loss = 0.594</text>\n<text text-anchor=\"middle\" x=\"1595.5\" y=\"-260.8\" font-family=\"Helvetica,sans-Serif\" font-size=\"14.00\">samples = 278</text>\n<text text-anchor=\"middle\" x=\"1595.5\" y=\"-245.8\" font-family=\"Helvetica,sans-Serif\" font-size=\"14.00\">value = [238, 40]</text>\n<text text-anchor=\"middle\" x=\"1595.5\" y=\"-230.8\" font-family=\"Helvetica,sans-Serif\" font-size=\"14.00\">class = dead</text>\n</g>\n<!-- 25&#45;&gt;26 -->\n<g id=\"edge26\" class=\"edge\">\n<title>25&#45;&gt;26</title>\n<path fill=\"none\" stroke=\"black\" d=\"M1645.79,-341.91C1639.99,-333.1 1633.8,-323.7 1627.82,-314.61\"/>\n<polygon fill=\"black\" stroke=\"black\" points=\"1630.59,-312.45 1622.17,-306.02 1624.74,-316.3 1630.59,-312.45\"/>\n</g>\n<!-- 31 -->\n<g id=\"node32\" class=\"node\">\n<title>31</title>\n<path fill=\"#eda876\" stroke=\"black\" d=\"M1805,-306C1805,-306 1696,-306 1696,-306 1690,-306 1684,-300 1684,-294 1684,-294 1684,-235 1684,-235 1684,-229 1690,-223 1696,-223 1696,-223 1805,-223 1805,-223 1811,-223 1817,-229 1817,-235 1817,-235 1817,-294 1817,-294 1817,-300 1811,-306 1805,-306\"/>\n<text text-anchor=\"middle\" x=\"1750.5\" y=\"-290.8\" font-family=\"Helvetica,sans-Serif\" font-size=\"14.00\">Fare &lt;= 224.01</text>\n<text text-anchor=\"middle\" x=\"1750.5\" y=\"-275.8\" font-family=\"Helvetica,sans-Serif\" font-size=\"14.00\">log_loss = 0.787</text>\n<text text-anchor=\"middle\" x=\"1750.5\" y=\"-260.8\" font-family=\"Helvetica,sans-Serif\" font-size=\"14.00\">samples = 51</text>\n<text text-anchor=\"middle\" x=\"1750.5\" y=\"-245.8\" font-family=\"Helvetica,sans-Serif\" font-size=\"14.00\">value = [39, 12]</text>\n<text text-anchor=\"middle\" x=\"1750.5\" y=\"-230.8\" font-family=\"Helvetica,sans-Serif\" font-size=\"14.00\">class = dead</text>\n</g>\n<!-- 25&#45;&gt;31 -->\n<g id=\"edge31\" class=\"edge\">\n<title>25&#45;&gt;31</title>\n<path fill=\"none\" stroke=\"black\" d=\"M1699.56,-341.91C1705.43,-333.1 1711.7,-323.7 1717.76,-314.61\"/>\n<polygon fill=\"black\" stroke=\"black\" points=\"1720.85,-316.28 1723.49,-306.02 1715.03,-312.4 1720.85,-316.28\"/>\n</g>\n<!-- 27 -->\n<g id=\"node28\" class=\"node\">\n<title>27</title>\n<path fill=\"#e9965b\" stroke=\"black\" d=\"M1510.5,-187C1510.5,-187 1394.5,-187 1394.5,-187 1388.5,-187 1382.5,-181 1382.5,-175 1382.5,-175 1382.5,-116 1382.5,-116 1382.5,-110 1388.5,-104 1394.5,-104 1394.5,-104 1510.5,-104 1510.5,-104 1516.5,-104 1522.5,-110 1522.5,-116 1522.5,-116 1522.5,-175 1522.5,-175 1522.5,-181 1516.5,-187 1510.5,-187\"/>\n<text text-anchor=\"middle\" x=\"1452.5\" y=\"-171.8\" font-family=\"Helvetica,sans-Serif\" font-size=\"14.00\">Parch &lt;= 0.327</text>\n<text text-anchor=\"middle\" x=\"1452.5\" y=\"-156.8\" font-family=\"Helvetica,sans-Serif\" font-size=\"14.00\">log_loss = 0.598</text>\n<text text-anchor=\"middle\" x=\"1452.5\" y=\"-141.8\" font-family=\"Helvetica,sans-Serif\" font-size=\"14.00\">samples = 275</text>\n<text text-anchor=\"middle\" x=\"1452.5\" y=\"-126.8\" font-family=\"Helvetica,sans-Serif\" font-size=\"14.00\">value = [235, 40]</text>\n<text text-anchor=\"middle\" x=\"1452.5\" y=\"-111.8\" font-family=\"Helvetica,sans-Serif\" font-size=\"14.00\">class = dead</text>\n</g>\n<!-- 26&#45;&gt;27 -->\n<g id=\"edge27\" class=\"edge\">\n<title>26&#45;&gt;27</title>\n<path fill=\"none\" stroke=\"black\" d=\"M1545.89,-222.91C1534.24,-213.38 1521.74,-203.15 1509.79,-193.37\"/>\n<polygon fill=\"black\" stroke=\"black\" points=\"1511.98,-190.64 1502.03,-187.02 1507.55,-196.06 1511.98,-190.64\"/>\n</g>\n<!-- 30 -->\n<g id=\"node31\" class=\"node\">\n<title>30</title>\n<path fill=\"#e58139\" stroke=\"black\" d=\"M1644,-179.5C1644,-179.5 1553,-179.5 1553,-179.5 1547,-179.5 1541,-173.5 1541,-167.5 1541,-167.5 1541,-123.5 1541,-123.5 1541,-117.5 1547,-111.5 1553,-111.5 1553,-111.5 1644,-111.5 1644,-111.5 1650,-111.5 1656,-117.5 1656,-123.5 1656,-123.5 1656,-167.5 1656,-167.5 1656,-173.5 1650,-179.5 1644,-179.5\"/>\n<text text-anchor=\"middle\" x=\"1598.5\" y=\"-164.3\" font-family=\"Helvetica,sans-Serif\" font-size=\"14.00\">log_loss = 0.0</text>\n<text text-anchor=\"middle\" x=\"1598.5\" y=\"-149.3\" font-family=\"Helvetica,sans-Serif\" font-size=\"14.00\">samples = 3</text>\n<text text-anchor=\"middle\" x=\"1598.5\" y=\"-134.3\" font-family=\"Helvetica,sans-Serif\" font-size=\"14.00\">value = [3, 0]</text>\n<text text-anchor=\"middle\" x=\"1598.5\" y=\"-119.3\" font-family=\"Helvetica,sans-Serif\" font-size=\"14.00\">class = dead</text>\n</g>\n<!-- 26&#45;&gt;30 -->\n<g id=\"edge30\" class=\"edge\">\n<title>26&#45;&gt;30</title>\n<path fill=\"none\" stroke=\"black\" d=\"M1596.54,-222.91C1596.82,-212.2 1597.11,-200.62 1597.39,-189.78\"/>\n<polygon fill=\"black\" stroke=\"black\" points=\"1600.89,-189.75 1597.65,-179.67 1593.89,-189.57 1600.89,-189.75\"/>\n</g>\n<!-- 28 -->\n<g id=\"node29\" class=\"node\">\n<title>28</title>\n<path fill=\"#e99355\" stroke=\"black\" d=\"M1356.5,-68C1356.5,-68 1240.5,-68 1240.5,-68 1234.5,-68 1228.5,-62 1228.5,-56 1228.5,-56 1228.5,-12 1228.5,-12 1228.5,-6 1234.5,0 1240.5,0 1240.5,0 1356.5,0 1356.5,0 1362.5,0 1368.5,-6 1368.5,-12 1368.5,-12 1368.5,-56 1368.5,-56 1368.5,-62 1362.5,-68 1356.5,-68\"/>\n<text text-anchor=\"middle\" x=\"1298.5\" y=\"-52.8\" font-family=\"Helvetica,sans-Serif\" font-size=\"14.00\">log_loss = 0.544</text>\n<text text-anchor=\"middle\" x=\"1298.5\" y=\"-37.8\" font-family=\"Helvetica,sans-Serif\" font-size=\"14.00\">samples = 232</text>\n<text text-anchor=\"middle\" x=\"1298.5\" y=\"-22.8\" font-family=\"Helvetica,sans-Serif\" font-size=\"14.00\">value = [203, 29]</text>\n<text text-anchor=\"middle\" x=\"1298.5\" y=\"-7.8\" font-family=\"Helvetica,sans-Serif\" font-size=\"14.00\">class = dead</text>\n</g>\n<!-- 27&#45;&gt;28 -->\n<g id=\"edge28\" class=\"edge\">\n<title>27&#45;&gt;28</title>\n<path fill=\"none\" stroke=\"black\" d=\"M1395.16,-103.73C1381.56,-94.06 1367.09,-83.77 1353.59,-74.17\"/>\n<polygon fill=\"black\" stroke=\"black\" points=\"1355.51,-71.24 1345.33,-68.3 1351.45,-76.95 1355.51,-71.24\"/>\n</g>\n<!-- 29 -->\n<g id=\"node30\" class=\"node\">\n<title>29</title>\n<path fill=\"#eeac7d\" stroke=\"black\" d=\"M1506,-68C1506,-68 1399,-68 1399,-68 1393,-68 1387,-62 1387,-56 1387,-56 1387,-12 1387,-12 1387,-6 1393,0 1399,0 1399,0 1506,0 1506,0 1512,0 1518,-6 1518,-12 1518,-12 1518,-56 1518,-56 1518,-62 1512,-68 1506,-68\"/>\n<text text-anchor=\"middle\" x=\"1452.5\" y=\"-52.8\" font-family=\"Helvetica,sans-Serif\" font-size=\"14.00\">log_loss = 0.82</text>\n<text text-anchor=\"middle\" x=\"1452.5\" y=\"-37.8\" font-family=\"Helvetica,sans-Serif\" font-size=\"14.00\">samples = 43</text>\n<text text-anchor=\"middle\" x=\"1452.5\" y=\"-22.8\" font-family=\"Helvetica,sans-Serif\" font-size=\"14.00\">value = [32, 11]</text>\n<text text-anchor=\"middle\" x=\"1452.5\" y=\"-7.8\" font-family=\"Helvetica,sans-Serif\" font-size=\"14.00\">class = dead</text>\n</g>\n<!-- 27&#45;&gt;29 -->\n<g id=\"edge29\" class=\"edge\">\n<title>27&#45;&gt;29</title>\n<path fill=\"none\" stroke=\"black\" d=\"M1452.5,-103.73C1452.5,-95.52 1452.5,-86.86 1452.5,-78.56\"/>\n<polygon fill=\"black\" stroke=\"black\" points=\"1456,-78.3 1452.5,-68.3 1449,-78.3 1456,-78.3\"/>\n</g>\n<!-- 32 -->\n<g id=\"node33\" class=\"node\">\n<title>32</title>\n<path fill=\"#edaa79\" stroke=\"black\" d=\"M1802,-187C1802,-187 1693,-187 1693,-187 1687,-187 1681,-181 1681,-175 1681,-175 1681,-116 1681,-116 1681,-110 1687,-104 1693,-104 1693,-104 1802,-104 1802,-104 1808,-104 1814,-110 1814,-116 1814,-116 1814,-175 1814,-175 1814,-181 1808,-187 1802,-187\"/>\n<text text-anchor=\"middle\" x=\"1747.5\" y=\"-171.8\" font-family=\"Helvetica,sans-Serif\" font-size=\"14.00\">Fare &lt;= 67.662</text>\n<text text-anchor=\"middle\" x=\"1747.5\" y=\"-156.8\" font-family=\"Helvetica,sans-Serif\" font-size=\"14.00\">log_loss = 0.803</text>\n<text text-anchor=\"middle\" x=\"1747.5\" y=\"-141.8\" font-family=\"Helvetica,sans-Serif\" font-size=\"14.00\">samples = 49</text>\n<text text-anchor=\"middle\" x=\"1747.5\" y=\"-126.8\" font-family=\"Helvetica,sans-Serif\" font-size=\"14.00\">value = [37, 12]</text>\n<text text-anchor=\"middle\" x=\"1747.5\" y=\"-111.8\" font-family=\"Helvetica,sans-Serif\" font-size=\"14.00\">class = dead</text>\n</g>\n<!-- 31&#45;&gt;32 -->\n<g id=\"edge32\" class=\"edge\">\n<title>31&#45;&gt;32</title>\n<path fill=\"none\" stroke=\"black\" d=\"M1749.46,-222.91C1749.25,-214.56 1749.02,-205.67 1748.8,-197.02\"/>\n<polygon fill=\"black\" stroke=\"black\" points=\"1752.29,-196.93 1748.54,-187.02 1745.3,-197.11 1752.29,-196.93\"/>\n</g>\n<!-- 35 -->\n<g id=\"node36\" class=\"node\">\n<title>35</title>\n<path fill=\"#e58139\" stroke=\"black\" d=\"M1935,-179.5C1935,-179.5 1844,-179.5 1844,-179.5 1838,-179.5 1832,-173.5 1832,-167.5 1832,-167.5 1832,-123.5 1832,-123.5 1832,-117.5 1838,-111.5 1844,-111.5 1844,-111.5 1935,-111.5 1935,-111.5 1941,-111.5 1947,-117.5 1947,-123.5 1947,-123.5 1947,-167.5 1947,-167.5 1947,-173.5 1941,-179.5 1935,-179.5\"/>\n<text text-anchor=\"middle\" x=\"1889.5\" y=\"-164.3\" font-family=\"Helvetica,sans-Serif\" font-size=\"14.00\">log_loss = 0.0</text>\n<text text-anchor=\"middle\" x=\"1889.5\" y=\"-149.3\" font-family=\"Helvetica,sans-Serif\" font-size=\"14.00\">samples = 2</text>\n<text text-anchor=\"middle\" x=\"1889.5\" y=\"-134.3\" font-family=\"Helvetica,sans-Serif\" font-size=\"14.00\">value = [2, 0]</text>\n<text text-anchor=\"middle\" x=\"1889.5\" y=\"-119.3\" font-family=\"Helvetica,sans-Serif\" font-size=\"14.00\">class = dead</text>\n</g>\n<!-- 31&#45;&gt;35 -->\n<g id=\"edge35\" class=\"edge\">\n<title>31&#45;&gt;35</title>\n<path fill=\"none\" stroke=\"black\" d=\"M1798.73,-222.91C1812.88,-210.99 1828.35,-197.98 1842.43,-186.12\"/>\n<polygon fill=\"black\" stroke=\"black\" points=\"1844.7,-188.78 1850.1,-179.67 1840.19,-183.43 1844.7,-188.78\"/>\n</g>\n<!-- 33 -->\n<g id=\"node34\" class=\"node\">\n<title>33</title>\n<path fill=\"#efaf82\" stroke=\"black\" d=\"M1657,-68C1657,-68 1548,-68 1548,-68 1542,-68 1536,-62 1536,-56 1536,-56 1536,-12 1536,-12 1536,-6 1542,0 1548,0 1548,0 1657,0 1657,0 1663,0 1669,-6 1669,-12 1669,-12 1669,-56 1669,-56 1669,-62 1663,-68 1657,-68\"/>\n<text text-anchor=\"middle\" x=\"1602.5\" y=\"-52.8\" font-family=\"Helvetica,sans-Serif\" font-size=\"14.00\">log_loss = 0.839</text>\n<text text-anchor=\"middle\" x=\"1602.5\" y=\"-37.8\" font-family=\"Helvetica,sans-Serif\" font-size=\"14.00\">samples = 41</text>\n<text text-anchor=\"middle\" x=\"1602.5\" y=\"-22.8\" font-family=\"Helvetica,sans-Serif\" font-size=\"14.00\">value = [30, 11]</text>\n<text text-anchor=\"middle\" x=\"1602.5\" y=\"-7.8\" font-family=\"Helvetica,sans-Serif\" font-size=\"14.00\">class = dead</text>\n</g>\n<!-- 32&#45;&gt;33 -->\n<g id=\"edge33\" class=\"edge\">\n<title>32&#45;&gt;33</title>\n<path fill=\"none\" stroke=\"black\" d=\"M1693.51,-103.73C1680.83,-94.15 1667.33,-83.96 1654.73,-74.44\"/>\n<polygon fill=\"black\" stroke=\"black\" points=\"1656.68,-71.53 1646.6,-68.3 1652.47,-77.12 1656.68,-71.53\"/>\n</g>\n<!-- 34 -->\n<g id=\"node35\" class=\"node\">\n<title>34</title>\n<path fill=\"#e99355\" stroke=\"black\" d=\"M1808,-68C1808,-68 1699,-68 1699,-68 1693,-68 1687,-62 1687,-56 1687,-56 1687,-12 1687,-12 1687,-6 1693,0 1699,0 1699,0 1808,0 1808,0 1814,0 1820,-6 1820,-12 1820,-12 1820,-56 1820,-56 1820,-62 1814,-68 1808,-68\"/>\n<text text-anchor=\"middle\" x=\"1753.5\" y=\"-52.8\" font-family=\"Helvetica,sans-Serif\" font-size=\"14.00\">log_loss = 0.544</text>\n<text text-anchor=\"middle\" x=\"1753.5\" y=\"-37.8\" font-family=\"Helvetica,sans-Serif\" font-size=\"14.00\">samples = 8</text>\n<text text-anchor=\"middle\" x=\"1753.5\" y=\"-22.8\" font-family=\"Helvetica,sans-Serif\" font-size=\"14.00\">value = [7, 1]</text>\n<text text-anchor=\"middle\" x=\"1753.5\" y=\"-7.8\" font-family=\"Helvetica,sans-Serif\" font-size=\"14.00\">class = dead</text>\n</g>\n<!-- 32&#45;&gt;34 -->\n<g id=\"edge34\" class=\"edge\">\n<title>32&#45;&gt;34</title>\n<path fill=\"none\" stroke=\"black\" d=\"M1749.73,-103.73C1750.18,-95.52 1750.66,-86.86 1751.11,-78.56\"/>\n<polygon fill=\"black\" stroke=\"black\" points=\"1754.62,-78.48 1751.68,-68.3 1747.63,-78.09 1754.62,-78.48\"/>\n</g>\n<!-- 37 -->\n<g id=\"node38\" class=\"node\">\n<title>37</title>\n<path fill=\"#eead7f\" stroke=\"black\" d=\"M2180,-306C2180,-306 2071,-306 2071,-306 2065,-306 2059,-300 2059,-294 2059,-294 2059,-235 2059,-235 2059,-229 2065,-223 2071,-223 2071,-223 2180,-223 2180,-223 2186,-223 2192,-229 2192,-235 2192,-235 2192,-294 2192,-294 2192,-300 2186,-306 2180,-306\"/>\n<text text-anchor=\"middle\" x=\"2125.5\" y=\"-290.8\" font-family=\"Helvetica,sans-Serif\" font-size=\"14.00\">Parch &lt;= 0.53</text>\n<text text-anchor=\"middle\" x=\"2125.5\" y=\"-275.8\" font-family=\"Helvetica,sans-Serif\" font-size=\"14.00\">log_loss = 0.828</text>\n<text text-anchor=\"middle\" x=\"2125.5\" y=\"-260.8\" font-family=\"Helvetica,sans-Serif\" font-size=\"14.00\">samples = 46</text>\n<text text-anchor=\"middle\" x=\"2125.5\" y=\"-245.8\" font-family=\"Helvetica,sans-Serif\" font-size=\"14.00\">value = [34, 12]</text>\n<text text-anchor=\"middle\" x=\"2125.5\" y=\"-230.8\" font-family=\"Helvetica,sans-Serif\" font-size=\"14.00\">class = dead</text>\n</g>\n<!-- 36&#45;&gt;37 -->\n<g id=\"edge37\" class=\"edge\">\n<title>36&#45;&gt;37</title>\n<path fill=\"none\" stroke=\"black\" d=\"M2125.5,-341.91C2125.5,-333.65 2125.5,-324.86 2125.5,-316.3\"/>\n<polygon fill=\"black\" stroke=\"black\" points=\"2129,-316.02 2125.5,-306.02 2122,-316.02 2129,-316.02\"/>\n</g>\n<!-- 44 -->\n<g id=\"node45\" class=\"node\">\n<title>44</title>\n<path fill=\"#bddef6\" stroke=\"black\" d=\"M2536,-306C2536,-306 2427,-306 2427,-306 2421,-306 2415,-300 2415,-294 2415,-294 2415,-235 2415,-235 2415,-229 2421,-223 2427,-223 2427,-223 2536,-223 2536,-223 2542,-223 2548,-229 2548,-235 2548,-235 2548,-294 2548,-294 2548,-300 2542,-306 2536,-306\"/>\n<text text-anchor=\"middle\" x=\"2481.5\" y=\"-290.8\" font-family=\"Helvetica,sans-Serif\" font-size=\"14.00\">Parch &lt;= 1.933</text>\n<text text-anchor=\"middle\" x=\"2481.5\" y=\"-275.8\" font-family=\"Helvetica,sans-Serif\" font-size=\"14.00\">log_loss = 0.971</text>\n<text text-anchor=\"middle\" x=\"2481.5\" y=\"-260.8\" font-family=\"Helvetica,sans-Serif\" font-size=\"14.00\">samples = 15</text>\n<text text-anchor=\"middle\" x=\"2481.5\" y=\"-245.8\" font-family=\"Helvetica,sans-Serif\" font-size=\"14.00\">value = [6, 9]</text>\n<text text-anchor=\"middle\" x=\"2481.5\" y=\"-230.8\" font-family=\"Helvetica,sans-Serif\" font-size=\"14.00\">class = alive</text>\n</g>\n<!-- 36&#45;&gt;44 -->\n<g id=\"edge44\" class=\"edge\">\n<title>36&#45;&gt;44</title>\n<path fill=\"none\" stroke=\"black\" d=\"M2192.04,-360.63C2252.63,-340.72 2342.04,-311.33 2405.43,-290.5\"/>\n<polygon fill=\"black\" stroke=\"black\" points=\"2406.57,-293.81 2414.98,-287.36 2404.39,-287.16 2406.57,-293.81\"/>\n</g>\n<!-- 38 -->\n<g id=\"node39\" class=\"node\">\n<title>38</title>\n<path fill=\"#eda774\" stroke=\"black\" d=\"M2105,-187C2105,-187 1996,-187 1996,-187 1990,-187 1984,-181 1984,-175 1984,-175 1984,-116 1984,-116 1984,-110 1990,-104 1996,-104 1996,-104 2105,-104 2105,-104 2111,-104 2117,-110 2117,-116 2117,-116 2117,-175 2117,-175 2117,-181 2111,-187 2105,-187\"/>\n<text text-anchor=\"middle\" x=\"2050.5\" y=\"-171.8\" font-family=\"Helvetica,sans-Serif\" font-size=\"14.00\">Fare &lt;= 28.065</text>\n<text text-anchor=\"middle\" x=\"2050.5\" y=\"-156.8\" font-family=\"Helvetica,sans-Serif\" font-size=\"14.00\">log_loss = 0.779</text>\n<text text-anchor=\"middle\" x=\"2050.5\" y=\"-141.8\" font-family=\"Helvetica,sans-Serif\" font-size=\"14.00\">samples = 39</text>\n<text text-anchor=\"middle\" x=\"2050.5\" y=\"-126.8\" font-family=\"Helvetica,sans-Serif\" font-size=\"14.00\">value = [30, 9]</text>\n<text text-anchor=\"middle\" x=\"2050.5\" y=\"-111.8\" font-family=\"Helvetica,sans-Serif\" font-size=\"14.00\">class = dead</text>\n</g>\n<!-- 37&#45;&gt;38 -->\n<g id=\"edge38\" class=\"edge\">\n<title>37&#45;&gt;38</title>\n<path fill=\"none\" stroke=\"black\" d=\"M2099.48,-222.91C2093.84,-214.1 2087.81,-204.7 2081.98,-195.61\"/>\n<polygon fill=\"black\" stroke=\"black\" points=\"2084.82,-193.55 2076.47,-187.02 2078.93,-197.33 2084.82,-193.55\"/>\n</g>\n<!-- 41 -->\n<g id=\"node42\" class=\"node\">\n<title>41</title>\n<path fill=\"#f8e0ce\" stroke=\"black\" d=\"M2256,-187C2256,-187 2147,-187 2147,-187 2141,-187 2135,-181 2135,-175 2135,-175 2135,-116 2135,-116 2135,-110 2141,-104 2147,-104 2147,-104 2256,-104 2256,-104 2262,-104 2268,-110 2268,-116 2268,-116 2268,-175 2268,-175 2268,-181 2262,-187 2256,-187\"/>\n<text text-anchor=\"middle\" x=\"2201.5\" y=\"-171.8\" font-family=\"Helvetica,sans-Serif\" font-size=\"14.00\">Age &lt;= 10.944</text>\n<text text-anchor=\"middle\" x=\"2201.5\" y=\"-156.8\" font-family=\"Helvetica,sans-Serif\" font-size=\"14.00\">log_loss = 0.985</text>\n<text text-anchor=\"middle\" x=\"2201.5\" y=\"-141.8\" font-family=\"Helvetica,sans-Serif\" font-size=\"14.00\">samples = 7</text>\n<text text-anchor=\"middle\" x=\"2201.5\" y=\"-126.8\" font-family=\"Helvetica,sans-Serif\" font-size=\"14.00\">value = [4, 3]</text>\n<text text-anchor=\"middle\" x=\"2201.5\" y=\"-111.8\" font-family=\"Helvetica,sans-Serif\" font-size=\"14.00\">class = dead</text>\n</g>\n<!-- 37&#45;&gt;41 -->\n<g id=\"edge41\" class=\"edge\">\n<title>37&#45;&gt;41</title>\n<path fill=\"none\" stroke=\"black\" d=\"M2151.87,-222.91C2157.59,-214.1 2163.69,-204.7 2169.6,-195.61\"/>\n<polygon fill=\"black\" stroke=\"black\" points=\"2172.67,-197.31 2175.18,-187.02 2166.8,-193.5 2172.67,-197.31\"/>\n</g>\n<!-- 39 -->\n<g id=\"node40\" class=\"node\">\n<title>39</title>\n<path fill=\"#eb9e67\" stroke=\"black\" d=\"M1959,-68C1959,-68 1850,-68 1850,-68 1844,-68 1838,-62 1838,-56 1838,-56 1838,-12 1838,-12 1838,-6 1844,0 1850,0 1850,0 1959,0 1959,0 1965,0 1971,-6 1971,-12 1971,-12 1971,-56 1971,-56 1971,-62 1965,-68 1959,-68\"/>\n<text text-anchor=\"middle\" x=\"1904.5\" y=\"-52.8\" font-family=\"Helvetica,sans-Serif\" font-size=\"14.00\">log_loss = 0.696</text>\n<text text-anchor=\"middle\" x=\"1904.5\" y=\"-37.8\" font-family=\"Helvetica,sans-Serif\" font-size=\"14.00\">samples = 32</text>\n<text text-anchor=\"middle\" x=\"1904.5\" y=\"-22.8\" font-family=\"Helvetica,sans-Serif\" font-size=\"14.00\">value = [26, 6]</text>\n<text text-anchor=\"middle\" x=\"1904.5\" y=\"-7.8\" font-family=\"Helvetica,sans-Serif\" font-size=\"14.00\">class = dead</text>\n</g>\n<!-- 38&#45;&gt;39 -->\n<g id=\"edge39\" class=\"edge\">\n<title>38&#45;&gt;39</title>\n<path fill=\"none\" stroke=\"black\" d=\"M1996.13,-103.73C1983.37,-94.15 1969.78,-83.96 1957.09,-74.44\"/>\n<polygon fill=\"black\" stroke=\"black\" points=\"1959,-71.5 1948.9,-68.3 1954.8,-77.1 1959,-71.5\"/>\n</g>\n<!-- 40 -->\n<g id=\"node41\" class=\"node\">\n<title>40</title>\n<path fill=\"#f8e0ce\" stroke=\"black\" d=\"M2110,-68C2110,-68 2001,-68 2001,-68 1995,-68 1989,-62 1989,-56 1989,-56 1989,-12 1989,-12 1989,-6 1995,0 2001,0 2001,0 2110,0 2110,0 2116,0 2122,-6 2122,-12 2122,-12 2122,-56 2122,-56 2122,-62 2116,-68 2110,-68\"/>\n<text text-anchor=\"middle\" x=\"2055.5\" y=\"-52.8\" font-family=\"Helvetica,sans-Serif\" font-size=\"14.00\">log_loss = 0.985</text>\n<text text-anchor=\"middle\" x=\"2055.5\" y=\"-37.8\" font-family=\"Helvetica,sans-Serif\" font-size=\"14.00\">samples = 7</text>\n<text text-anchor=\"middle\" x=\"2055.5\" y=\"-22.8\" font-family=\"Helvetica,sans-Serif\" font-size=\"14.00\">value = [4, 3]</text>\n<text text-anchor=\"middle\" x=\"2055.5\" y=\"-7.8\" font-family=\"Helvetica,sans-Serif\" font-size=\"14.00\">class = dead</text>\n</g>\n<!-- 38&#45;&gt;40 -->\n<g id=\"edge40\" class=\"edge\">\n<title>38&#45;&gt;40</title>\n<path fill=\"none\" stroke=\"black\" d=\"M2052.36,-103.73C2052.74,-95.52 2053.13,-86.86 2053.51,-78.56\"/>\n<polygon fill=\"black\" stroke=\"black\" points=\"2057.02,-78.45 2053.98,-68.3 2050.03,-78.13 2057.02,-78.45\"/>\n</g>\n<!-- 42 -->\n<g id=\"node43\" class=\"node\">\n<title>42</title>\n<path fill=\"#399de5\" stroke=\"black\" d=\"M2243,-68C2243,-68 2152,-68 2152,-68 2146,-68 2140,-62 2140,-56 2140,-56 2140,-12 2140,-12 2140,-6 2146,0 2152,0 2152,0 2243,0 2243,0 2249,0 2255,-6 2255,-12 2255,-12 2255,-56 2255,-56 2255,-62 2249,-68 2243,-68\"/>\n<text text-anchor=\"middle\" x=\"2197.5\" y=\"-52.8\" font-family=\"Helvetica,sans-Serif\" font-size=\"14.00\">log_loss = 0.0</text>\n<text text-anchor=\"middle\" x=\"2197.5\" y=\"-37.8\" font-family=\"Helvetica,sans-Serif\" font-size=\"14.00\">samples = 2</text>\n<text text-anchor=\"middle\" x=\"2197.5\" y=\"-22.8\" font-family=\"Helvetica,sans-Serif\" font-size=\"14.00\">value = [0, 2]</text>\n<text text-anchor=\"middle\" x=\"2197.5\" y=\"-7.8\" font-family=\"Helvetica,sans-Serif\" font-size=\"14.00\">class = alive</text>\n</g>\n<!-- 41&#45;&gt;42 -->\n<g id=\"edge42\" class=\"edge\">\n<title>41&#45;&gt;42</title>\n<path fill=\"none\" stroke=\"black\" d=\"M2200.01,-103.73C2199.71,-95.52 2199.39,-86.86 2199.09,-78.56\"/>\n<polygon fill=\"black\" stroke=\"black\" points=\"2202.58,-78.17 2198.72,-68.3 2195.58,-78.42 2202.58,-78.17\"/>\n</g>\n<!-- 43 -->\n<g id=\"node44\" class=\"node\">\n<title>43</title>\n<path fill=\"#eca06a\" stroke=\"black\" d=\"M2394,-68C2394,-68 2285,-68 2285,-68 2279,-68 2273,-62 2273,-56 2273,-56 2273,-12 2273,-12 2273,-6 2279,0 2285,0 2285,0 2394,0 2394,0 2400,0 2406,-6 2406,-12 2406,-12 2406,-56 2406,-56 2406,-62 2400,-68 2394,-68\"/>\n<text text-anchor=\"middle\" x=\"2339.5\" y=\"-52.8\" font-family=\"Helvetica,sans-Serif\" font-size=\"14.00\">log_loss = 0.722</text>\n<text text-anchor=\"middle\" x=\"2339.5\" y=\"-37.8\" font-family=\"Helvetica,sans-Serif\" font-size=\"14.00\">samples = 5</text>\n<text text-anchor=\"middle\" x=\"2339.5\" y=\"-22.8\" font-family=\"Helvetica,sans-Serif\" font-size=\"14.00\">value = [4, 1]</text>\n<text text-anchor=\"middle\" x=\"2339.5\" y=\"-7.8\" font-family=\"Helvetica,sans-Serif\" font-size=\"14.00\">class = dead</text>\n</g>\n<!-- 41&#45;&gt;43 -->\n<g id=\"edge43\" class=\"edge\">\n<title>41&#45;&gt;43</title>\n<path fill=\"none\" stroke=\"black\" d=\"M2252.89,-103.73C2264.84,-94.24 2277.55,-84.16 2289.45,-74.72\"/>\n<polygon fill=\"black\" stroke=\"black\" points=\"2291.88,-77.26 2297.53,-68.3 2287.52,-71.77 2291.88,-77.26\"/>\n</g>\n<!-- 45 -->\n<g id=\"node46\" class=\"node\">\n<title>45</title>\n<path fill=\"#cee6f8\" stroke=\"black\" d=\"M2536,-187C2536,-187 2427,-187 2427,-187 2421,-187 2415,-181 2415,-175 2415,-175 2415,-116 2415,-116 2415,-110 2421,-104 2427,-104 2427,-104 2536,-104 2536,-104 2542,-104 2548,-110 2548,-116 2548,-116 2548,-175 2548,-175 2548,-181 2542,-187 2536,-187\"/>\n<text text-anchor=\"middle\" x=\"2481.5\" y=\"-171.8\" font-family=\"Helvetica,sans-Serif\" font-size=\"14.00\">Fare &lt;= 76.964</text>\n<text text-anchor=\"middle\" x=\"2481.5\" y=\"-156.8\" font-family=\"Helvetica,sans-Serif\" font-size=\"14.00\">log_loss = 0.985</text>\n<text text-anchor=\"middle\" x=\"2481.5\" y=\"-141.8\" font-family=\"Helvetica,sans-Serif\" font-size=\"14.00\">samples = 14</text>\n<text text-anchor=\"middle\" x=\"2481.5\" y=\"-126.8\" font-family=\"Helvetica,sans-Serif\" font-size=\"14.00\">value = [6, 8]</text>\n<text text-anchor=\"middle\" x=\"2481.5\" y=\"-111.8\" font-family=\"Helvetica,sans-Serif\" font-size=\"14.00\">class = alive</text>\n</g>\n<!-- 44&#45;&gt;45 -->\n<g id=\"edge45\" class=\"edge\">\n<title>44&#45;&gt;45</title>\n<path fill=\"none\" stroke=\"black\" d=\"M2481.5,-222.91C2481.5,-214.65 2481.5,-205.86 2481.5,-197.3\"/>\n<polygon fill=\"black\" stroke=\"black\" points=\"2485,-197.02 2481.5,-187.02 2478,-197.02 2485,-197.02\"/>\n</g>\n<!-- 48 -->\n<g id=\"node49\" class=\"node\">\n<title>48</title>\n<path fill=\"#399de5\" stroke=\"black\" d=\"M2669,-179.5C2669,-179.5 2578,-179.5 2578,-179.5 2572,-179.5 2566,-173.5 2566,-167.5 2566,-167.5 2566,-123.5 2566,-123.5 2566,-117.5 2572,-111.5 2578,-111.5 2578,-111.5 2669,-111.5 2669,-111.5 2675,-111.5 2681,-117.5 2681,-123.5 2681,-123.5 2681,-167.5 2681,-167.5 2681,-173.5 2675,-179.5 2669,-179.5\"/>\n<text text-anchor=\"middle\" x=\"2623.5\" y=\"-164.3\" font-family=\"Helvetica,sans-Serif\" font-size=\"14.00\">log_loss = 0.0</text>\n<text text-anchor=\"middle\" x=\"2623.5\" y=\"-149.3\" font-family=\"Helvetica,sans-Serif\" font-size=\"14.00\">samples = 1</text>\n<text text-anchor=\"middle\" x=\"2623.5\" y=\"-134.3\" font-family=\"Helvetica,sans-Serif\" font-size=\"14.00\">value = [0, 1]</text>\n<text text-anchor=\"middle\" x=\"2623.5\" y=\"-119.3\" font-family=\"Helvetica,sans-Serif\" font-size=\"14.00\">class = alive</text>\n</g>\n<!-- 44&#45;&gt;48 -->\n<g id=\"edge48\" class=\"edge\">\n<title>44&#45;&gt;48</title>\n<path fill=\"none\" stroke=\"black\" d=\"M2530.77,-222.91C2545.23,-210.99 2561.03,-197.98 2575.41,-186.12\"/>\n<polygon fill=\"black\" stroke=\"black\" points=\"2577.75,-188.73 2583.25,-179.67 2573.3,-183.32 2577.75,-188.73\"/>\n</g>\n<!-- 46 -->\n<g id=\"node47\" class=\"node\">\n<title>46</title>\n<path fill=\"#399de5\" stroke=\"black\" d=\"M2527,-68C2527,-68 2436,-68 2436,-68 2430,-68 2424,-62 2424,-56 2424,-56 2424,-12 2424,-12 2424,-6 2430,0 2436,0 2436,0 2527,0 2527,0 2533,0 2539,-6 2539,-12 2539,-12 2539,-56 2539,-56 2539,-62 2533,-68 2527,-68\"/>\n<text text-anchor=\"middle\" x=\"2481.5\" y=\"-52.8\" font-family=\"Helvetica,sans-Serif\" font-size=\"14.00\">log_loss = 0.0</text>\n<text text-anchor=\"middle\" x=\"2481.5\" y=\"-37.8\" font-family=\"Helvetica,sans-Serif\" font-size=\"14.00\">samples = 3</text>\n<text text-anchor=\"middle\" x=\"2481.5\" y=\"-22.8\" font-family=\"Helvetica,sans-Serif\" font-size=\"14.00\">value = [0, 3]</text>\n<text text-anchor=\"middle\" x=\"2481.5\" y=\"-7.8\" font-family=\"Helvetica,sans-Serif\" font-size=\"14.00\">class = alive</text>\n</g>\n<!-- 45&#45;&gt;46 -->\n<g id=\"edge46\" class=\"edge\">\n<title>45&#45;&gt;46</title>\n<path fill=\"none\" stroke=\"black\" d=\"M2481.5,-103.73C2481.5,-95.52 2481.5,-86.86 2481.5,-78.56\"/>\n<polygon fill=\"black\" stroke=\"black\" points=\"2485,-78.3 2481.5,-68.3 2478,-78.3 2485,-78.3\"/>\n</g>\n<!-- 47 -->\n<g id=\"node48\" class=\"node\">\n<title>47</title>\n<path fill=\"#fbeade\" stroke=\"black\" d=\"M2678,-68C2678,-68 2569,-68 2569,-68 2563,-68 2557,-62 2557,-56 2557,-56 2557,-12 2557,-12 2557,-6 2563,0 2569,0 2569,0 2678,0 2678,0 2684,0 2690,-6 2690,-12 2690,-12 2690,-56 2690,-56 2690,-62 2684,-68 2678,-68\"/>\n<text text-anchor=\"middle\" x=\"2623.5\" y=\"-52.8\" font-family=\"Helvetica,sans-Serif\" font-size=\"14.00\">log_loss = 0.994</text>\n<text text-anchor=\"middle\" x=\"2623.5\" y=\"-37.8\" font-family=\"Helvetica,sans-Serif\" font-size=\"14.00\">samples = 11</text>\n<text text-anchor=\"middle\" x=\"2623.5\" y=\"-22.8\" font-family=\"Helvetica,sans-Serif\" font-size=\"14.00\">value = [6, 5]</text>\n<text text-anchor=\"middle\" x=\"2623.5\" y=\"-7.8\" font-family=\"Helvetica,sans-Serif\" font-size=\"14.00\">class = dead</text>\n</g>\n<!-- 45&#45;&gt;47 -->\n<g id=\"edge47\" class=\"edge\">\n<title>45&#45;&gt;47</title>\n<path fill=\"none\" stroke=\"black\" d=\"M2534.38,-103.73C2546.79,-94.15 2560.01,-83.96 2572.35,-74.44\"/>\n<polygon fill=\"black\" stroke=\"black\" points=\"2574.54,-77.18 2580.32,-68.3 2570.26,-71.63 2574.54,-77.18\"/>\n</g>\n</g>\n</svg>\n",
      "text/plain": [
       "<graphviz.sources.Source at 0x7f6953414b20>"
      ]
     },
     "metadata": {},
     "output_type": "display_data"
    }
   ],
   "source": [
    "with open(\"titanic_tree.dot\") as f:\n",
    "    dot_graph = f.read()\n",
    "    display(graphviz.Source(dot_graph))"
   ]
  },
  {
   "cell_type": "code",
   "execution_count": 97,
   "metadata": {},
   "outputs": [
    {
     "data": {
      "text/plain": [
       "Age           596\n",
       "Parch         596\n",
       "Fare          596\n",
       "Pclass_1      596\n",
       "Pclass_2      596\n",
       "Pclass_3      596\n",
       "Sex_female    596\n",
       "Sex_male      596\n",
       "Embarked_C    596\n",
       "Embarked_Q    596\n",
       "Embarked_S    596\n",
       "dtype: int64"
      ]
     },
     "execution_count": 97,
     "metadata": {},
     "output_type": "execute_result"
    }
   ],
   "source": [
    "X_train.isna().count()"
   ]
  },
  {
   "cell_type": "code",
   "execution_count": 98,
   "metadata": {},
   "outputs": [
    {
     "data": {
      "text/html": [
       "<div>\n",
       "<style scoped>\n",
       "    .dataframe tbody tr th:only-of-type {\n",
       "        vertical-align: middle;\n",
       "    }\n",
       "\n",
       "    .dataframe tbody tr th {\n",
       "        vertical-align: top;\n",
       "    }\n",
       "\n",
       "    .dataframe thead th {\n",
       "        text-align: right;\n",
       "    }\n",
       "</style>\n",
       "<table border=\"1\" class=\"dataframe\">\n",
       "  <thead>\n",
       "    <tr style=\"text-align: right;\">\n",
       "      <th></th>\n",
       "      <th>Age</th>\n",
       "      <th>Parch</th>\n",
       "      <th>Fare</th>\n",
       "      <th>Pclass_1</th>\n",
       "      <th>Pclass_2</th>\n",
       "      <th>Pclass_3</th>\n",
       "      <th>Sex_female</th>\n",
       "      <th>Sex_male</th>\n",
       "      <th>Embarked_C</th>\n",
       "      <th>Embarked_Q</th>\n",
       "      <th>Embarked_S</th>\n",
       "    </tr>\n",
       "  </thead>\n",
       "  <tbody>\n",
       "    <tr>\n",
       "      <th>6</th>\n",
       "      <td>54.0</td>\n",
       "      <td>0</td>\n",
       "      <td>51.8625</td>\n",
       "      <td>1</td>\n",
       "      <td>0</td>\n",
       "      <td>0</td>\n",
       "      <td>0</td>\n",
       "      <td>1</td>\n",
       "      <td>0</td>\n",
       "      <td>0</td>\n",
       "      <td>1</td>\n",
       "    </tr>\n",
       "    <tr>\n",
       "      <th>718</th>\n",
       "      <td>28.0</td>\n",
       "      <td>0</td>\n",
       "      <td>15.5000</td>\n",
       "      <td>0</td>\n",
       "      <td>0</td>\n",
       "      <td>1</td>\n",
       "      <td>0</td>\n",
       "      <td>1</td>\n",
       "      <td>0</td>\n",
       "      <td>1</td>\n",
       "      <td>0</td>\n",
       "    </tr>\n",
       "    <tr>\n",
       "      <th>685</th>\n",
       "      <td>25.0</td>\n",
       "      <td>2</td>\n",
       "      <td>41.5792</td>\n",
       "      <td>0</td>\n",
       "      <td>1</td>\n",
       "      <td>0</td>\n",
       "      <td>0</td>\n",
       "      <td>1</td>\n",
       "      <td>1</td>\n",
       "      <td>0</td>\n",
       "      <td>0</td>\n",
       "    </tr>\n",
       "    <tr>\n",
       "      <th>73</th>\n",
       "      <td>26.0</td>\n",
       "      <td>0</td>\n",
       "      <td>14.4542</td>\n",
       "      <td>0</td>\n",
       "      <td>0</td>\n",
       "      <td>1</td>\n",
       "      <td>0</td>\n",
       "      <td>1</td>\n",
       "      <td>1</td>\n",
       "      <td>0</td>\n",
       "      <td>0</td>\n",
       "    </tr>\n",
       "    <tr>\n",
       "      <th>882</th>\n",
       "      <td>22.0</td>\n",
       "      <td>0</td>\n",
       "      <td>10.5167</td>\n",
       "      <td>0</td>\n",
       "      <td>0</td>\n",
       "      <td>1</td>\n",
       "      <td>1</td>\n",
       "      <td>0</td>\n",
       "      <td>0</td>\n",
       "      <td>0</td>\n",
       "      <td>1</td>\n",
       "    </tr>\n",
       "  </tbody>\n",
       "</table>\n",
       "</div>"
      ],
      "text/plain": [
       "      Age  Parch     Fare  Pclass_1  Pclass_2  Pclass_3  Sex_female  Sex_male  \\\n",
       "6    54.0      0  51.8625         1         0         0           0         1   \n",
       "718  28.0      0  15.5000         0         0         1           0         1   \n",
       "685  25.0      2  41.5792         0         1         0           0         1   \n",
       "73   26.0      0  14.4542         0         0         1           0         1   \n",
       "882  22.0      0  10.5167         0         0         1           1         0   \n",
       "\n",
       "     Embarked_C  Embarked_Q  Embarked_S  \n",
       "6             0           0           1  \n",
       "718           0           1           0  \n",
       "685           1           0           0  \n",
       "73            1           0           0  \n",
       "882           0           0           1  "
      ]
     },
     "execution_count": 98,
     "metadata": {},
     "output_type": "execute_result"
    }
   ],
   "source": [
    "X_train.head(5)"
   ]
  },
  {
   "cell_type": "code",
   "execution_count": 99,
   "metadata": {},
   "outputs": [
    {
     "ename": "KeyError",
     "evalue": "\"['Pclass'] not in index\"",
     "output_type": "error",
     "traceback": [
      "\u001b[0;31m---------------------------------------------------------------------------\u001b[0m",
      "\u001b[0;31mKeyError\u001b[0m                                  Traceback (most recent call last)",
      "Cell \u001b[0;32mIn [99], line 6\u001b[0m\n\u001b[1;32m      2\u001b[0m \u001b[39m# Plotting decision regions\u001b[39;00m\n\u001b[1;32m      3\u001b[0m f, ((ax1,ax2)) \u001b[39m=\u001b[39m plt\u001b[39m.\u001b[39msubplots(\u001b[39m1\u001b[39m, \u001b[39m2\u001b[39m, sharex\u001b[39m=\u001b[39m\u001b[39m\"\u001b[39m\u001b[39mcol\u001b[39m\u001b[39m\"\u001b[39m, sharey\u001b[39m=\u001b[39m\u001b[39m\"\u001b[39m\u001b[39mrow\u001b[39m\u001b[39m\"\u001b[39m, figsize\u001b[39m=\u001b[39m(\u001b[39m8\u001b[39m, \u001b[39m6\u001b[39m))\n\u001b[1;32m      5\u001b[0m DecisionBoundaryDisplay\u001b[39m.\u001b[39mfrom_estimator(\n\u001b[0;32m----> 6\u001b[0m         grid_clf\u001b[39m.\u001b[39mbest_estimator_, X_train[[\u001b[39m'\u001b[39;49m\u001b[39mFare\u001b[39;49m\u001b[39m'\u001b[39;49m, \u001b[39m'\u001b[39;49m\u001b[39mPclass\u001b[39;49m\u001b[39m'\u001b[39;49m]], alpha\u001b[39m=\u001b[39m\u001b[39m0.4\u001b[39m, ax\u001b[39m=\u001b[39max2, response_method\u001b[39m=\u001b[39m\u001b[39m\"\u001b[39m\u001b[39mpredict\u001b[39m\u001b[39m\"\u001b[39m\n\u001b[1;32m      7\u001b[0m     )\n\u001b[1;32m      9\u001b[0m ax1\u001b[39m.\u001b[39mscatter(X_train[\u001b[39m\"\u001b[39m\u001b[39mFare\u001b[39m\u001b[39m\"\u001b[39m], X_train[\u001b[39m\"\u001b[39m\u001b[39mPclass\u001b[39m\u001b[39m\"\u001b[39m], c\u001b[39m=\u001b[39my, s\u001b[39m=\u001b[39m\u001b[39m20\u001b[39m, edgecolor\u001b[39m=\u001b[39m\u001b[39m\"\u001b[39m\u001b[39mk\u001b[39m\u001b[39m\"\u001b[39m)\n\u001b[1;32m     12\u001b[0m ax2\u001b[39m.\u001b[39mscatter(X_train[\u001b[39m\"\u001b[39m\u001b[39mFare\u001b[39m\u001b[39m\"\u001b[39m], X_train[\u001b[39m\"\u001b[39m\u001b[39mPclass\u001b[39m\u001b[39m\"\u001b[39m], c\u001b[39m=\u001b[39my, s\u001b[39m=\u001b[39m\u001b[39m20\u001b[39m, edgecolor\u001b[39m=\u001b[39m\u001b[39m\"\u001b[39m\u001b[39mk\u001b[39m\u001b[39m\"\u001b[39m)\n",
      "File \u001b[0;32m~/.pyenv/versions/3.8.12/envs/simplon/lib/python3.8/site-packages/pandas/core/frame.py:3511\u001b[0m, in \u001b[0;36mDataFrame.__getitem__\u001b[0;34m(self, key)\u001b[0m\n\u001b[1;32m   3509\u001b[0m     \u001b[39mif\u001b[39;00m is_iterator(key):\n\u001b[1;32m   3510\u001b[0m         key \u001b[39m=\u001b[39m \u001b[39mlist\u001b[39m(key)\n\u001b[0;32m-> 3511\u001b[0m     indexer \u001b[39m=\u001b[39m \u001b[39mself\u001b[39;49m\u001b[39m.\u001b[39;49mcolumns\u001b[39m.\u001b[39;49m_get_indexer_strict(key, \u001b[39m\"\u001b[39;49m\u001b[39mcolumns\u001b[39;49m\u001b[39m\"\u001b[39;49m)[\u001b[39m1\u001b[39m]\n\u001b[1;32m   3513\u001b[0m \u001b[39m# take() does not accept boolean indexers\u001b[39;00m\n\u001b[1;32m   3514\u001b[0m \u001b[39mif\u001b[39;00m \u001b[39mgetattr\u001b[39m(indexer, \u001b[39m\"\u001b[39m\u001b[39mdtype\u001b[39m\u001b[39m\"\u001b[39m, \u001b[39mNone\u001b[39;00m) \u001b[39m==\u001b[39m \u001b[39mbool\u001b[39m:\n",
      "File \u001b[0;32m~/.pyenv/versions/3.8.12/envs/simplon/lib/python3.8/site-packages/pandas/core/indexes/base.py:5796\u001b[0m, in \u001b[0;36mIndex._get_indexer_strict\u001b[0;34m(self, key, axis_name)\u001b[0m\n\u001b[1;32m   5793\u001b[0m \u001b[39melse\u001b[39;00m:\n\u001b[1;32m   5794\u001b[0m     keyarr, indexer, new_indexer \u001b[39m=\u001b[39m \u001b[39mself\u001b[39m\u001b[39m.\u001b[39m_reindex_non_unique(keyarr)\n\u001b[0;32m-> 5796\u001b[0m \u001b[39mself\u001b[39;49m\u001b[39m.\u001b[39;49m_raise_if_missing(keyarr, indexer, axis_name)\n\u001b[1;32m   5798\u001b[0m keyarr \u001b[39m=\u001b[39m \u001b[39mself\u001b[39m\u001b[39m.\u001b[39mtake(indexer)\n\u001b[1;32m   5799\u001b[0m \u001b[39mif\u001b[39;00m \u001b[39misinstance\u001b[39m(key, Index):\n\u001b[1;32m   5800\u001b[0m     \u001b[39m# GH 42790 - Preserve name from an Index\u001b[39;00m\n",
      "File \u001b[0;32m~/.pyenv/versions/3.8.12/envs/simplon/lib/python3.8/site-packages/pandas/core/indexes/base.py:5859\u001b[0m, in \u001b[0;36mIndex._raise_if_missing\u001b[0;34m(self, key, indexer, axis_name)\u001b[0m\n\u001b[1;32m   5856\u001b[0m     \u001b[39mraise\u001b[39;00m \u001b[39mKeyError\u001b[39;00m(\u001b[39mf\u001b[39m\u001b[39m\"\u001b[39m\u001b[39mNone of [\u001b[39m\u001b[39m{\u001b[39;00mkey\u001b[39m}\u001b[39;00m\u001b[39m] are in the [\u001b[39m\u001b[39m{\u001b[39;00maxis_name\u001b[39m}\u001b[39;00m\u001b[39m]\u001b[39m\u001b[39m\"\u001b[39m)\n\u001b[1;32m   5858\u001b[0m not_found \u001b[39m=\u001b[39m \u001b[39mlist\u001b[39m(ensure_index(key)[missing_mask\u001b[39m.\u001b[39mnonzero()[\u001b[39m0\u001b[39m]]\u001b[39m.\u001b[39munique())\n\u001b[0;32m-> 5859\u001b[0m \u001b[39mraise\u001b[39;00m \u001b[39mKeyError\u001b[39;00m(\u001b[39mf\u001b[39m\u001b[39m\"\u001b[39m\u001b[39m{\u001b[39;00mnot_found\u001b[39m}\u001b[39;00m\u001b[39m not in index\u001b[39m\u001b[39m\"\u001b[39m)\n",
      "\u001b[0;31mKeyError\u001b[0m: \"['Pclass'] not in index\""
     ]
    },
    {
     "data": {
      "image/png": "[encoded data removed]",
      "text/plain": [
       "<Figure size 800x600 with 2 Axes>"
      ]
     },
     "metadata": {},
     "output_type": "display_data"
    }
   ],
   "source": [
    "from sklearn.inspection import DecisionBoundaryDisplay\n",
    "# Plotting decision regions\n",
    "f, ((ax1,ax2)) = plt.subplots(1, 2, sharex=\"col\", sharey=\"row\", figsize=(8, 6))\n",
    "\n",
    "DecisionBoundaryDisplay.from_estimator(\n",
    "        grid_clf.best_estimator_, X_train[['Fare', 'Pclass']], alpha=0.4, ax=ax2, response_method=\"predict\"\n",
    "    )\n",
    "\n",
    "ax1.scatter(X_train[\"Fare\"], X_train[\"Pclass\"], c=y, s=20, edgecolor=\"k\")\n",
    "\n",
    "\n",
    "ax2.scatter(X_train[\"Fare\"], X_train[\"Pclass\"], c=y, s=20, edgecolor=\"k\")\n",
    "\n",
    "plt.show()"
   ]
  },
  {
   "cell_type": "code",
   "execution_count": null,
   "metadata": {},
   "outputs": [],
   "source": []
  },
  {
   "cell_type": "code",
   "execution_count": null,
   "metadata": {},
   "outputs": [],
   "source": []
  },
  {
   "cell_type": "code",
   "execution_count": null,
   "metadata": {},
   "outputs": [],
   "source": []
  },
  {
   "cell_type": "code",
   "execution_count": null,
   "metadata": {},
   "outputs": [],
   "source": []
  },
  {
   "cell_type": "code",
   "execution_count": null,
   "metadata": {},
   "outputs": [],
   "source": []
  },
  {
   "cell_type": "code",
   "execution_count": null,
   "metadata": {},
   "outputs": [],
   "source": []
  },
  {
   "cell_type": "code",
   "execution_count": null,
   "metadata": {},
   "outputs": [],
   "source": []
  },
  {
   "cell_type": "code",
   "execution_count": null,
   "metadata": {},
   "outputs": [],
   "source": []
  },
  {
   "cell_type": "code",
   "execution_count": null,
   "metadata": {},
   "outputs": [],
   "source": []
  },
  {
   "cell_type": "code",
   "execution_count": null,
   "metadata": {},
   "outputs": [],
   "source": []
  },
  {
   "cell_type": "code",
   "execution_count": null,
   "metadata": {},
   "outputs": [],
   "source": []
  },
  {
   "cell_type": "code",
   "execution_count": null,
   "metadata": {},
   "outputs": [],
   "source": []
  },
  {
   "cell_type": "code",
   "execution_count": 29,
   "metadata": {},
   "outputs": [],
   "source": [
    "formula = 'Pclass * Sex * Age * SibSp * Parch * Fare * Embarked'"
   ]
  },
  {
   "cell_type": "code",
   "execution_count": 30,
   "metadata": {},
   "outputs": [],
   "source": [
    "patsify = patsylearn.PatsyTransformer(formula)"
   ]
  },
  {
   "cell_type": "code",
   "execution_count": 31,
   "metadata": {},
   "outputs": [
    {
     "ename": "PatsyError",
     "evalue": "Error evaluating factor: NameError: name 'Embarked' is not defined\n    Pclass * Sex * Age * SibSp * Parch * Fare * Embarked\n                                                ^^^^^^^^",
     "output_type": "error",
     "traceback": [
      "\u001b[0;31m---------------------------------------------------------------------------\u001b[0m",
      "\u001b[0;31mNameError\u001b[0m                                 Traceback (most recent call last)",
      "File \u001b[0;32m~/.pyenv/versions/3.8.12/envs/simplon/lib/python3.8/site-packages/patsy/compat.py:36\u001b[0m, in \u001b[0;36mcall_and_wrap_exc\u001b[0;34m(msg, origin, f, *args, **kwargs)\u001b[0m\n\u001b[1;32m     35\u001b[0m \u001b[39mtry\u001b[39;00m:\n\u001b[0;32m---> 36\u001b[0m     \u001b[39mreturn\u001b[39;00m f(\u001b[39m*\u001b[39;49margs, \u001b[39m*\u001b[39;49m\u001b[39m*\u001b[39;49mkwargs)\n\u001b[1;32m     37\u001b[0m \u001b[39mexcept\u001b[39;00m \u001b[39mException\u001b[39;00m \u001b[39mas\u001b[39;00m e:\n",
      "File \u001b[0;32m~/.pyenv/versions/3.8.12/envs/simplon/lib/python3.8/site-packages/patsy/eval.py:169\u001b[0m, in \u001b[0;36mEvalEnvironment.eval\u001b[0;34m(self, expr, source_name, inner_namespace)\u001b[0m\n\u001b[1;32m    168\u001b[0m code \u001b[39m=\u001b[39m \u001b[39mcompile\u001b[39m(expr, source_name, \u001b[39m\"\u001b[39m\u001b[39meval\u001b[39m\u001b[39m\"\u001b[39m, \u001b[39mself\u001b[39m\u001b[39m.\u001b[39mflags, \u001b[39mFalse\u001b[39;00m)\n\u001b[0;32m--> 169\u001b[0m \u001b[39mreturn\u001b[39;00m \u001b[39meval\u001b[39;49m(code, {}, VarLookupDict([inner_namespace]\n\u001b[1;32m    170\u001b[0m                                     \u001b[39m+\u001b[39;49m \u001b[39mself\u001b[39;49m\u001b[39m.\u001b[39;49m_namespaces))\n",
      "File \u001b[0;32m<string>:1\u001b[0m\n",
      "\u001b[0;31mNameError\u001b[0m: name 'Embarked' is not defined",
      "\nThe above exception was the direct cause of the following exception:\n",
      "\u001b[0;31mPatsyError\u001b[0m                                Traceback (most recent call last)",
      "Cell \u001b[0;32mIn [31], line 1\u001b[0m\n\u001b[0;32m----> 1\u001b[0m patsify\u001b[39m.\u001b[39;49mfit(X_train)\n\u001b[1;32m      2\u001b[0m X_train \u001b[39m=\u001b[39m patsify\u001b[39m.\u001b[39mtransform(X_train)\n\u001b[1;32m      3\u001b[0m X_test \u001b[39m=\u001b[39m patsify\u001b[39m.\u001b[39mtransform(df_test)\n",
      "File \u001b[0;32m~/.pyenv/versions/3.8.12/envs/simplon/lib/python3.8/site-packages/patsylearn/patsy_adaptor.py:253\u001b[0m, in \u001b[0;36mPatsyTransformer.fit\u001b[0;34m(self, data, y)\u001b[0m\n\u001b[1;32m    245\u001b[0m \u001b[39mdef\u001b[39;00m \u001b[39mfit\u001b[39m(\u001b[39mself\u001b[39m, data, y\u001b[39m=\u001b[39m\u001b[39mNone\u001b[39;00m):\n\u001b[1;32m    246\u001b[0m     \u001b[39m\"\"\"Fit the scikit-learn model using the formula.\u001b[39;00m\n\u001b[1;32m    247\u001b[0m \n\u001b[1;32m    248\u001b[0m \u001b[39m    Parameters\u001b[39;00m\n\u001b[0;32m   (...)\u001b[0m\n\u001b[1;32m    251\u001b[0m \u001b[39m        Input data. Column names need to match variables in formula.\u001b[39;00m\n\u001b[1;32m    252\u001b[0m \u001b[39m    \"\"\"\u001b[39;00m\n\u001b[0;32m--> 253\u001b[0m     \u001b[39mself\u001b[39;49m\u001b[39m.\u001b[39;49m_fit_transform(data, y)\n\u001b[1;32m    254\u001b[0m     \u001b[39mreturn\u001b[39;00m \u001b[39mself\u001b[39m\n",
      "File \u001b[0;32m~/.pyenv/versions/3.8.12/envs/simplon/lib/python3.8/site-packages/patsylearn/patsy_adaptor.py:275\u001b[0m, in \u001b[0;36mPatsyTransformer._fit_transform\u001b[0;34m(self, data, y)\u001b[0m\n\u001b[1;32m    272\u001b[0m eval_env \u001b[39m=\u001b[39m EvalEnvironment\u001b[39m.\u001b[39mcapture(\u001b[39mself\u001b[39m\u001b[39m.\u001b[39meval_env, reference\u001b[39m=\u001b[39m\u001b[39m2\u001b[39m)\n\u001b[1;32m    273\u001b[0m formula \u001b[39m=\u001b[39m _drop_intercept(\u001b[39mself\u001b[39m\u001b[39m.\u001b[39mformula, \u001b[39mself\u001b[39m\u001b[39m.\u001b[39madd_intercept)\n\u001b[0;32m--> 275\u001b[0m design \u001b[39m=\u001b[39m dmatrix(formula, data, eval_env\u001b[39m=\u001b[39;49meval_env, NA_action\u001b[39m=\u001b[39;49m\u001b[39mself\u001b[39;49m\u001b[39m.\u001b[39;49mNA_action,\n\u001b[1;32m    276\u001b[0m                  return_type\u001b[39m=\u001b[39;49m\u001b[39m'\u001b[39;49m\u001b[39mdataframe\u001b[39;49m\u001b[39m'\u001b[39;49m)\n\u001b[1;32m    277\u001b[0m \u001b[39mself\u001b[39m\u001b[39m.\u001b[39mdesign_ \u001b[39m=\u001b[39m design\u001b[39m.\u001b[39mdesign_info\n\u001b[1;32m    279\u001b[0m \u001b[39mif\u001b[39;00m \u001b[39mself\u001b[39m\u001b[39m.\u001b[39mreturn_type \u001b[39m==\u001b[39m \u001b[39m'\u001b[39m\u001b[39mdataframe\u001b[39m\u001b[39m'\u001b[39m:\n",
      "File \u001b[0;32m~/.pyenv/versions/3.8.12/envs/simplon/lib/python3.8/site-packages/patsy/highlevel.py:290\u001b[0m, in \u001b[0;36mdmatrix\u001b[0;34m(formula_like, data, eval_env, NA_action, return_type)\u001b[0m\n\u001b[1;32m    227\u001b[0m \u001b[39m\"\"\"Construct a single design matrix given a formula_like and data.\u001b[39;00m\n\u001b[1;32m    228\u001b[0m \n\u001b[1;32m    229\u001b[0m \u001b[39m:arg formula_like: An object that can be used to construct a design\u001b[39;00m\n\u001b[0;32m   (...)\u001b[0m\n\u001b[1;32m    287\u001b[0m \u001b[39m   The ``NA_action`` argument.\u001b[39;00m\n\u001b[1;32m    288\u001b[0m \u001b[39m\"\"\"\u001b[39;00m\n\u001b[1;32m    289\u001b[0m eval_env \u001b[39m=\u001b[39m EvalEnvironment\u001b[39m.\u001b[39mcapture(eval_env, reference\u001b[39m=\u001b[39m\u001b[39m1\u001b[39m)\n\u001b[0;32m--> 290\u001b[0m (lhs, rhs) \u001b[39m=\u001b[39m _do_highlevel_design(formula_like, data, eval_env,\n\u001b[1;32m    291\u001b[0m                                   NA_action, return_type)\n\u001b[1;32m    292\u001b[0m \u001b[39mif\u001b[39;00m lhs\u001b[39m.\u001b[39mshape[\u001b[39m1\u001b[39m] \u001b[39m!=\u001b[39m \u001b[39m0\u001b[39m:\n\u001b[1;32m    293\u001b[0m     \u001b[39mraise\u001b[39;00m PatsyError(\u001b[39m\"\u001b[39m\u001b[39mencountered outcome variables for a model \u001b[39m\u001b[39m\"\u001b[39m\n\u001b[1;32m    294\u001b[0m                         \u001b[39m\"\u001b[39m\u001b[39mthat does not expect them\u001b[39m\u001b[39m\"\u001b[39m)\n",
      "File \u001b[0;32m~/.pyenv/versions/3.8.12/envs/simplon/lib/python3.8/site-packages/patsy/highlevel.py:164\u001b[0m, in \u001b[0;36m_do_highlevel_design\u001b[0;34m(formula_like, data, eval_env, NA_action, return_type)\u001b[0m\n\u001b[1;32m    162\u001b[0m \u001b[39mdef\u001b[39;00m \u001b[39mdata_iter_maker\u001b[39m():\n\u001b[1;32m    163\u001b[0m     \u001b[39mreturn\u001b[39;00m \u001b[39miter\u001b[39m([data])\n\u001b[0;32m--> 164\u001b[0m design_infos \u001b[39m=\u001b[39m _try_incr_builders(formula_like, data_iter_maker, eval_env,\n\u001b[1;32m    165\u001b[0m                                   NA_action)\n\u001b[1;32m    166\u001b[0m \u001b[39mif\u001b[39;00m design_infos \u001b[39mis\u001b[39;00m \u001b[39mnot\u001b[39;00m \u001b[39mNone\u001b[39;00m:\n\u001b[1;32m    167\u001b[0m     \u001b[39mreturn\u001b[39;00m build_design_matrices(design_infos, data,\n\u001b[1;32m    168\u001b[0m                                  NA_action\u001b[39m=\u001b[39mNA_action,\n\u001b[1;32m    169\u001b[0m                                  return_type\u001b[39m=\u001b[39mreturn_type)\n",
      "File \u001b[0;32m~/.pyenv/versions/3.8.12/envs/simplon/lib/python3.8/site-packages/patsy/highlevel.py:66\u001b[0m, in \u001b[0;36m_try_incr_builders\u001b[0;34m(formula_like, data_iter_maker, eval_env, NA_action)\u001b[0m\n\u001b[1;32m     64\u001b[0m \u001b[39mif\u001b[39;00m \u001b[39misinstance\u001b[39m(formula_like, ModelDesc):\n\u001b[1;32m     65\u001b[0m     \u001b[39massert\u001b[39;00m \u001b[39misinstance\u001b[39m(eval_env, EvalEnvironment)\n\u001b[0;32m---> 66\u001b[0m     \u001b[39mreturn\u001b[39;00m design_matrix_builders([formula_like\u001b[39m.\u001b[39;49mlhs_termlist,\n\u001b[1;32m     67\u001b[0m                                    formula_like\u001b[39m.\u001b[39;49mrhs_termlist],\n\u001b[1;32m     68\u001b[0m                                   data_iter_maker,\n\u001b[1;32m     69\u001b[0m                                   eval_env,\n\u001b[1;32m     70\u001b[0m                                   NA_action)\n\u001b[1;32m     71\u001b[0m \u001b[39melse\u001b[39;00m:\n\u001b[1;32m     72\u001b[0m     \u001b[39mreturn\u001b[39;00m \u001b[39mNone\u001b[39;00m\n",
      "File \u001b[0;32m~/.pyenv/versions/3.8.12/envs/simplon/lib/python3.8/site-packages/patsy/build.py:693\u001b[0m, in \u001b[0;36mdesign_matrix_builders\u001b[0;34m(termlists, data_iter_maker, eval_env, NA_action)\u001b[0m\n\u001b[1;32m    689\u001b[0m factor_states \u001b[39m=\u001b[39m _factors_memorize(all_factors, data_iter_maker, eval_env)\n\u001b[1;32m    690\u001b[0m \u001b[39m# Now all the factors have working eval methods, so we can evaluate them\u001b[39;00m\n\u001b[1;32m    691\u001b[0m \u001b[39m# on some data to find out what type of data they return.\u001b[39;00m\n\u001b[1;32m    692\u001b[0m (num_column_counts,\n\u001b[0;32m--> 693\u001b[0m  cat_levels_contrasts) \u001b[39m=\u001b[39m _examine_factor_types(all_factors,\n\u001b[1;32m    694\u001b[0m                                                factor_states,\n\u001b[1;32m    695\u001b[0m                                                data_iter_maker,\n\u001b[1;32m    696\u001b[0m                                                NA_action)\n\u001b[1;32m    697\u001b[0m \u001b[39m# Now we need the factor infos, which encapsulate the knowledge of\u001b[39;00m\n\u001b[1;32m    698\u001b[0m \u001b[39m# how to turn any given factor into a chunk of data:\u001b[39;00m\n\u001b[1;32m    699\u001b[0m factor_infos \u001b[39m=\u001b[39m {}\n",
      "File \u001b[0;32m~/.pyenv/versions/3.8.12/envs/simplon/lib/python3.8/site-packages/patsy/build.py:443\u001b[0m, in \u001b[0;36m_examine_factor_types\u001b[0;34m(factors, factor_states, data_iter_maker, NA_action)\u001b[0m\n\u001b[1;32m    441\u001b[0m \u001b[39mfor\u001b[39;00m data \u001b[39min\u001b[39;00m data_iter_maker():\n\u001b[1;32m    442\u001b[0m     \u001b[39mfor\u001b[39;00m factor \u001b[39min\u001b[39;00m \u001b[39mlist\u001b[39m(examine_needed):\n\u001b[0;32m--> 443\u001b[0m         value \u001b[39m=\u001b[39m factor\u001b[39m.\u001b[39;49meval(factor_states[factor], data)\n\u001b[1;32m    444\u001b[0m         \u001b[39mif\u001b[39;00m factor \u001b[39min\u001b[39;00m cat_sniffers \u001b[39mor\u001b[39;00m guess_categorical(value):\n\u001b[1;32m    445\u001b[0m             \u001b[39mif\u001b[39;00m factor \u001b[39mnot\u001b[39;00m \u001b[39min\u001b[39;00m cat_sniffers:\n",
      "File \u001b[0;32m~/.pyenv/versions/3.8.12/envs/simplon/lib/python3.8/site-packages/patsy/eval.py:568\u001b[0m, in \u001b[0;36mEvalFactor.eval\u001b[0;34m(self, memorize_state, data)\u001b[0m\n\u001b[1;32m    567\u001b[0m \u001b[39mdef\u001b[39;00m \u001b[39meval\u001b[39m(\u001b[39mself\u001b[39m, memorize_state, data):\n\u001b[0;32m--> 568\u001b[0m     \u001b[39mreturn\u001b[39;00m \u001b[39mself\u001b[39;49m\u001b[39m.\u001b[39;49m_eval(memorize_state[\u001b[39m\"\u001b[39;49m\u001b[39meval_code\u001b[39;49m\u001b[39m\"\u001b[39;49m],\n\u001b[1;32m    569\u001b[0m                       memorize_state,\n\u001b[1;32m    570\u001b[0m                       data)\n",
      "File \u001b[0;32m~/.pyenv/versions/3.8.12/envs/simplon/lib/python3.8/site-packages/patsy/eval.py:551\u001b[0m, in \u001b[0;36mEvalFactor._eval\u001b[0;34m(self, code, memorize_state, data)\u001b[0m\n\u001b[1;32m    549\u001b[0m \u001b[39mdef\u001b[39;00m \u001b[39m_eval\u001b[39m(\u001b[39mself\u001b[39m, code, memorize_state, data):\n\u001b[1;32m    550\u001b[0m     inner_namespace \u001b[39m=\u001b[39m VarLookupDict([data, memorize_state[\u001b[39m\"\u001b[39m\u001b[39mtransforms\u001b[39m\u001b[39m\"\u001b[39m]])\n\u001b[0;32m--> 551\u001b[0m     \u001b[39mreturn\u001b[39;00m call_and_wrap_exc(\u001b[39m\"\u001b[39;49m\u001b[39mError evaluating factor\u001b[39;49m\u001b[39m\"\u001b[39;49m,\n\u001b[1;32m    552\u001b[0m                              \u001b[39mself\u001b[39;49m,\n\u001b[1;32m    553\u001b[0m                              memorize_state[\u001b[39m\"\u001b[39;49m\u001b[39meval_env\u001b[39;49m\u001b[39m\"\u001b[39;49m]\u001b[39m.\u001b[39;49meval,\n\u001b[1;32m    554\u001b[0m                              code,\n\u001b[1;32m    555\u001b[0m                              inner_namespace\u001b[39m=\u001b[39;49minner_namespace)\n",
      "File \u001b[0;32m~/.pyenv/versions/3.8.12/envs/simplon/lib/python3.8/site-packages/patsy/compat.py:43\u001b[0m, in \u001b[0;36mcall_and_wrap_exc\u001b[0;34m(msg, origin, f, *args, **kwargs)\u001b[0m\n\u001b[1;32m     39\u001b[0m     new_exc \u001b[39m=\u001b[39m PatsyError(\u001b[39m\"\u001b[39m\u001b[39m%s\u001b[39;00m\u001b[39m: \u001b[39m\u001b[39m%s\u001b[39;00m\u001b[39m: \u001b[39m\u001b[39m%s\u001b[39;00m\u001b[39m\"\u001b[39m\n\u001b[1;32m     40\u001b[0m                          \u001b[39m%\u001b[39m (msg, e\u001b[39m.\u001b[39m\u001b[39m__class__\u001b[39m\u001b[39m.\u001b[39m\u001b[39m__name__\u001b[39m, e),\n\u001b[1;32m     41\u001b[0m                          origin)\n\u001b[1;32m     42\u001b[0m     \u001b[39m# Use 'exec' to hide this syntax from the Python 2 parser:\u001b[39;00m\n\u001b[0;32m---> 43\u001b[0m     exec(\u001b[39m\"\u001b[39;49m\u001b[39mraise new_exc from e\u001b[39;49m\u001b[39m\"\u001b[39;49m)\n\u001b[1;32m     44\u001b[0m \u001b[39melse\u001b[39;00m:\n\u001b[1;32m     45\u001b[0m     \u001b[39m# In python 2, we just let the original exception escape -- better\u001b[39;00m\n\u001b[1;32m     46\u001b[0m     \u001b[39m# than destroying the traceback. But if it's a PatsyError, we can\u001b[39;00m\n\u001b[1;32m     47\u001b[0m     \u001b[39m# at least set the origin properly.\u001b[39;00m\n\u001b[1;32m     48\u001b[0m     \u001b[39mif\u001b[39;00m \u001b[39misinstance\u001b[39m(e, PatsyError):\n",
      "File \u001b[0;32m<string>:1\u001b[0m\n",
      "\u001b[0;31mPatsyError\u001b[0m: Error evaluating factor: NameError: name 'Embarked' is not defined\n    Pclass * Sex * Age * SibSp * Parch * Fare * Embarked\n                                                ^^^^^^^^"
     ]
    }
   ],
   "source": [
    "patsify.fit(X_train)\n",
    "X_train = patsify.transform(X_train)\n",
    "X_test = patsify.transform(df_test)"
   ]
  },
  {
   "cell_type": "code",
   "execution_count": null,
   "metadata": {},
   "outputs": [
    {
     "data": {
      "text/plain": [
       "3    218\n",
       "1    107\n",
       "2     93\n",
       "Name: Pclass, dtype: int64"
      ]
     },
     "execution_count": 23,
     "metadata": {},
     "output_type": "execute_result"
    }
   ],
   "source": [
    "pd.DataFrame(df_test)['Pclass'].value_counts()"
   ]
  },
  {
   "cell_type": "code",
   "execution_count": null,
   "metadata": {},
   "outputs": [
    {
     "data": {
      "text/html": [
       "<div>\n",
       "<style scoped>\n",
       "    .dataframe tbody tr th:only-of-type {\n",
       "        vertical-align: middle;\n",
       "    }\n",
       "\n",
       "    .dataframe tbody tr th {\n",
       "        vertical-align: top;\n",
       "    }\n",
       "\n",
       "    .dataframe thead th {\n",
       "        text-align: right;\n",
       "    }\n",
       "</style>\n",
       "<table border=\"1\" class=\"dataframe\">\n",
       "  <thead>\n",
       "    <tr style=\"text-align: right;\">\n",
       "      <th></th>\n",
       "      <th>0</th>\n",
       "      <th>1</th>\n",
       "      <th>2</th>\n",
       "      <th>3</th>\n",
       "      <th>4</th>\n",
       "      <th>5</th>\n",
       "      <th>6</th>\n",
       "      <th>7</th>\n",
       "      <th>8</th>\n",
       "      <th>9</th>\n",
       "      <th>...</th>\n",
       "      <th>278</th>\n",
       "      <th>279</th>\n",
       "      <th>280</th>\n",
       "      <th>281</th>\n",
       "      <th>282</th>\n",
       "      <th>283</th>\n",
       "      <th>284</th>\n",
       "      <th>285</th>\n",
       "      <th>286</th>\n",
       "      <th>287</th>\n",
       "    </tr>\n",
       "  </thead>\n",
       "  <tbody>\n",
       "    <tr>\n",
       "      <th>0</th>\n",
       "      <td>0.0</td>\n",
       "      <td>0.0</td>\n",
       "      <td>1.0</td>\n",
       "      <td>1.0</td>\n",
       "      <td>0.0</td>\n",
       "      <td>1.0</td>\n",
       "      <td>0.0</td>\n",
       "      <td>1.0</td>\n",
       "      <td>0.0</td>\n",
       "      <td>0.0</td>\n",
       "      <td>...</td>\n",
       "      <td>0.0</td>\n",
       "      <td>0.0</td>\n",
       "      <td>0.0</td>\n",
       "      <td>0.0</td>\n",
       "      <td>0.0</td>\n",
       "      <td>0.0</td>\n",
       "      <td>0.0</td>\n",
       "      <td>0.0</td>\n",
       "      <td>0.0</td>\n",
       "      <td>0.0</td>\n",
       "    </tr>\n",
       "    <tr>\n",
       "      <th>1</th>\n",
       "      <td>1.0</td>\n",
       "      <td>0.0</td>\n",
       "      <td>0.0</td>\n",
       "      <td>0.0</td>\n",
       "      <td>0.0</td>\n",
       "      <td>0.0</td>\n",
       "      <td>0.0</td>\n",
       "      <td>0.0</td>\n",
       "      <td>0.0</td>\n",
       "      <td>0.0</td>\n",
       "      <td>...</td>\n",
       "      <td>0.0</td>\n",
       "      <td>0.0</td>\n",
       "      <td>0.0</td>\n",
       "      <td>0.0</td>\n",
       "      <td>0.0</td>\n",
       "      <td>0.0</td>\n",
       "      <td>0.0</td>\n",
       "      <td>0.0</td>\n",
       "      <td>0.0</td>\n",
       "      <td>0.0</td>\n",
       "    </tr>\n",
       "    <tr>\n",
       "      <th>2</th>\n",
       "      <td>0.0</td>\n",
       "      <td>0.0</td>\n",
       "      <td>1.0</td>\n",
       "      <td>0.0</td>\n",
       "      <td>0.0</td>\n",
       "      <td>1.0</td>\n",
       "      <td>0.0</td>\n",
       "      <td>0.0</td>\n",
       "      <td>0.0</td>\n",
       "      <td>0.0</td>\n",
       "      <td>...</td>\n",
       "      <td>0.0</td>\n",
       "      <td>0.0</td>\n",
       "      <td>0.0</td>\n",
       "      <td>0.0</td>\n",
       "      <td>0.0</td>\n",
       "      <td>0.0</td>\n",
       "      <td>0.0</td>\n",
       "      <td>0.0</td>\n",
       "      <td>0.0</td>\n",
       "      <td>0.0</td>\n",
       "    </tr>\n",
       "    <tr>\n",
       "      <th>3</th>\n",
       "      <td>1.0</td>\n",
       "      <td>0.0</td>\n",
       "      <td>0.0</td>\n",
       "      <td>0.0</td>\n",
       "      <td>0.0</td>\n",
       "      <td>1.0</td>\n",
       "      <td>0.0</td>\n",
       "      <td>0.0</td>\n",
       "      <td>0.0</td>\n",
       "      <td>0.0</td>\n",
       "      <td>...</td>\n",
       "      <td>0.0</td>\n",
       "      <td>0.0</td>\n",
       "      <td>0.0</td>\n",
       "      <td>0.0</td>\n",
       "      <td>0.0</td>\n",
       "      <td>0.0</td>\n",
       "      <td>0.0</td>\n",
       "      <td>0.0</td>\n",
       "      <td>0.0</td>\n",
       "      <td>0.0</td>\n",
       "    </tr>\n",
       "    <tr>\n",
       "      <th>4</th>\n",
       "      <td>0.0</td>\n",
       "      <td>0.0</td>\n",
       "      <td>1.0</td>\n",
       "      <td>1.0</td>\n",
       "      <td>0.0</td>\n",
       "      <td>1.0</td>\n",
       "      <td>0.0</td>\n",
       "      <td>1.0</td>\n",
       "      <td>0.0</td>\n",
       "      <td>0.0</td>\n",
       "      <td>...</td>\n",
       "      <td>0.0</td>\n",
       "      <td>0.0</td>\n",
       "      <td>0.0</td>\n",
       "      <td>0.0</td>\n",
       "      <td>0.0</td>\n",
       "      <td>0.0</td>\n",
       "      <td>0.0</td>\n",
       "      <td>0.0</td>\n",
       "      <td>0.0</td>\n",
       "      <td>0.0</td>\n",
       "    </tr>\n",
       "    <tr>\n",
       "      <th>...</th>\n",
       "      <td>...</td>\n",
       "      <td>...</td>\n",
       "      <td>...</td>\n",
       "      <td>...</td>\n",
       "      <td>...</td>\n",
       "      <td>...</td>\n",
       "      <td>...</td>\n",
       "      <td>...</td>\n",
       "      <td>...</td>\n",
       "      <td>...</td>\n",
       "      <td>...</td>\n",
       "      <td>...</td>\n",
       "      <td>...</td>\n",
       "      <td>...</td>\n",
       "      <td>...</td>\n",
       "      <td>...</td>\n",
       "      <td>...</td>\n",
       "      <td>...</td>\n",
       "      <td>...</td>\n",
       "      <td>...</td>\n",
       "      <td>...</td>\n",
       "    </tr>\n",
       "    <tr>\n",
       "      <th>886</th>\n",
       "      <td>0.0</td>\n",
       "      <td>1.0</td>\n",
       "      <td>0.0</td>\n",
       "      <td>1.0</td>\n",
       "      <td>0.0</td>\n",
       "      <td>1.0</td>\n",
       "      <td>1.0</td>\n",
       "      <td>0.0</td>\n",
       "      <td>0.0</td>\n",
       "      <td>0.0</td>\n",
       "      <td>...</td>\n",
       "      <td>0.0</td>\n",
       "      <td>0.0</td>\n",
       "      <td>0.0</td>\n",
       "      <td>0.0</td>\n",
       "      <td>0.0</td>\n",
       "      <td>0.0</td>\n",
       "      <td>0.0</td>\n",
       "      <td>0.0</td>\n",
       "      <td>0.0</td>\n",
       "      <td>0.0</td>\n",
       "    </tr>\n",
       "    <tr>\n",
       "      <th>887</th>\n",
       "      <td>1.0</td>\n",
       "      <td>0.0</td>\n",
       "      <td>0.0</td>\n",
       "      <td>0.0</td>\n",
       "      <td>0.0</td>\n",
       "      <td>1.0</td>\n",
       "      <td>0.0</td>\n",
       "      <td>0.0</td>\n",
       "      <td>0.0</td>\n",
       "      <td>0.0</td>\n",
       "      <td>...</td>\n",
       "      <td>0.0</td>\n",
       "      <td>0.0</td>\n",
       "      <td>0.0</td>\n",
       "      <td>0.0</td>\n",
       "      <td>0.0</td>\n",
       "      <td>0.0</td>\n",
       "      <td>0.0</td>\n",
       "      <td>0.0</td>\n",
       "      <td>0.0</td>\n",
       "      <td>0.0</td>\n",
       "    </tr>\n",
       "    <tr>\n",
       "      <th>888</th>\n",
       "      <td>0.0</td>\n",
       "      <td>0.0</td>\n",
       "      <td>1.0</td>\n",
       "      <td>0.0</td>\n",
       "      <td>0.0</td>\n",
       "      <td>1.0</td>\n",
       "      <td>0.0</td>\n",
       "      <td>0.0</td>\n",
       "      <td>0.0</td>\n",
       "      <td>0.0</td>\n",
       "      <td>...</td>\n",
       "      <td>0.0</td>\n",
       "      <td>0.0</td>\n",
       "      <td>0.0</td>\n",
       "      <td>1313.2</td>\n",
       "      <td>0.0</td>\n",
       "      <td>0.0</td>\n",
       "      <td>0.0</td>\n",
       "      <td>0.0</td>\n",
       "      <td>0.0</td>\n",
       "      <td>0.0</td>\n",
       "    </tr>\n",
       "    <tr>\n",
       "      <th>889</th>\n",
       "      <td>1.0</td>\n",
       "      <td>0.0</td>\n",
       "      <td>0.0</td>\n",
       "      <td>1.0</td>\n",
       "      <td>0.0</td>\n",
       "      <td>0.0</td>\n",
       "      <td>0.0</td>\n",
       "      <td>0.0</td>\n",
       "      <td>0.0</td>\n",
       "      <td>0.0</td>\n",
       "      <td>...</td>\n",
       "      <td>0.0</td>\n",
       "      <td>0.0</td>\n",
       "      <td>0.0</td>\n",
       "      <td>0.0</td>\n",
       "      <td>0.0</td>\n",
       "      <td>0.0</td>\n",
       "      <td>0.0</td>\n",
       "      <td>0.0</td>\n",
       "      <td>0.0</td>\n",
       "      <td>0.0</td>\n",
       "    </tr>\n",
       "    <tr>\n",
       "      <th>890</th>\n",
       "      <td>0.0</td>\n",
       "      <td>0.0</td>\n",
       "      <td>1.0</td>\n",
       "      <td>1.0</td>\n",
       "      <td>1.0</td>\n",
       "      <td>0.0</td>\n",
       "      <td>0.0</td>\n",
       "      <td>1.0</td>\n",
       "      <td>0.0</td>\n",
       "      <td>1.0</td>\n",
       "      <td>...</td>\n",
       "      <td>0.0</td>\n",
       "      <td>0.0</td>\n",
       "      <td>0.0</td>\n",
       "      <td>0.0</td>\n",
       "      <td>0.0</td>\n",
       "      <td>0.0</td>\n",
       "      <td>0.0</td>\n",
       "      <td>0.0</td>\n",
       "      <td>0.0</td>\n",
       "      <td>0.0</td>\n",
       "    </tr>\n",
       "  </tbody>\n",
       "</table>\n",
       "<p>891 rows × 288 columns</p>\n",
       "</div>"
      ],
      "text/plain": [
       "     0    1    2    3    4    5    6    7    8    9    ...  278  279  280  \\\n",
       "0    0.0  0.0  1.0  1.0  0.0  1.0  0.0  1.0  0.0  0.0  ...  0.0  0.0  0.0   \n",
       "1    1.0  0.0  0.0  0.0  0.0  0.0  0.0  0.0  0.0  0.0  ...  0.0  0.0  0.0   \n",
       "2    0.0  0.0  1.0  0.0  0.0  1.0  0.0  0.0  0.0  0.0  ...  0.0  0.0  0.0   \n",
       "3    1.0  0.0  0.0  0.0  0.0  1.0  0.0  0.0  0.0  0.0  ...  0.0  0.0  0.0   \n",
       "4    0.0  0.0  1.0  1.0  0.0  1.0  0.0  1.0  0.0  0.0  ...  0.0  0.0  0.0   \n",
       "..   ...  ...  ...  ...  ...  ...  ...  ...  ...  ...  ...  ...  ...  ...   \n",
       "886  0.0  1.0  0.0  1.0  0.0  1.0  1.0  0.0  0.0  0.0  ...  0.0  0.0  0.0   \n",
       "887  1.0  0.0  0.0  0.0  0.0  1.0  0.0  0.0  0.0  0.0  ...  0.0  0.0  0.0   \n",
       "888  0.0  0.0  1.0  0.0  0.0  1.0  0.0  0.0  0.0  0.0  ...  0.0  0.0  0.0   \n",
       "889  1.0  0.0  0.0  1.0  0.0  0.0  0.0  0.0  0.0  0.0  ...  0.0  0.0  0.0   \n",
       "890  0.0  0.0  1.0  1.0  1.0  0.0  0.0  1.0  0.0  1.0  ...  0.0  0.0  0.0   \n",
       "\n",
       "        281  282  283  284  285  286  287  \n",
       "0       0.0  0.0  0.0  0.0  0.0  0.0  0.0  \n",
       "1       0.0  0.0  0.0  0.0  0.0  0.0  0.0  \n",
       "2       0.0  0.0  0.0  0.0  0.0  0.0  0.0  \n",
       "3       0.0  0.0  0.0  0.0  0.0  0.0  0.0  \n",
       "4       0.0  0.0  0.0  0.0  0.0  0.0  0.0  \n",
       "..      ...  ...  ...  ...  ...  ...  ...  \n",
       "886     0.0  0.0  0.0  0.0  0.0  0.0  0.0  \n",
       "887     0.0  0.0  0.0  0.0  0.0  0.0  0.0  \n",
       "888  1313.2  0.0  0.0  0.0  0.0  0.0  0.0  \n",
       "889     0.0  0.0  0.0  0.0  0.0  0.0  0.0  \n",
       "890     0.0  0.0  0.0  0.0  0.0  0.0  0.0  \n",
       "\n",
       "[891 rows x 288 columns]"
      ]
     },
     "execution_count": 24,
     "metadata": {},
     "output_type": "execute_result"
    }
   ],
   "source": [
    "pd.DataFrame(X_train)"
   ]
  },
  {
   "cell_type": "code",
   "execution_count": null,
   "metadata": {},
   "outputs": [],
   "source": [
    "LR = skl.LogisticRegression()"
   ]
  },
  {
   "cell_type": "code",
   "execution_count": null,
   "metadata": {},
   "outputs": [
    {
     "name": "stderr",
     "output_type": "stream",
     "text": [
      "/home/jerome/.pyenv/versions/3.8.12/envs/simplon/lib/python3.8/site-packages/sklearn/linear_model/_logistic.py:444: ConvergenceWarning: lbfgs failed to converge (status=1):\n",
      "STOP: TOTAL NO. of ITERATIONS REACHED LIMIT.\n",
      "\n",
      "Increase the number of iterations (max_iter) or scale the data as shown in:\n",
      "    https://scikit-learn.org/stable/modules/preprocessing.html\n",
      "Please also refer to the documentation for alternative solver options:\n",
      "    https://scikit-learn.org/stable/modules/linear_model.html#logistic-regression\n",
      "  n_iter_i = _check_optimize_result(\n"
     ]
    },
    {
     "data": {
      "text/html": [
       "<style>#sk-container-id-1 {color: black;background-color: white;}#sk-container-id-1 pre{padding: 0;}#sk-container-id-1 div.sk-toggleable {background-color: white;}#sk-container-id-1 label.sk-toggleable__label {cursor: pointer;display: block;width: 100%;margin-bottom: 0;padding: 0.3em;box-sizing: border-box;text-align: center;}#sk-container-id-1 label.sk-toggleable__label-arrow:before {content: \"▸\";float: left;margin-right: 0.25em;color: #696969;}#sk-container-id-1 label.sk-toggleable__label-arrow:hover:before {color: black;}#sk-container-id-1 div.sk-estimator:hover label.sk-toggleable__label-arrow:before {color: black;}#sk-container-id-1 div.sk-toggleable__content {max-height: 0;max-width: 0;overflow: hidden;text-align: left;background-color: #f0f8ff;}#sk-container-id-1 div.sk-toggleable__content pre {margin: 0.2em;color: black;border-radius: 0.25em;background-color: #f0f8ff;}#sk-container-id-1 input.sk-toggleable__control:checked~div.sk-toggleable__content {max-height: 200px;max-width: 100%;overflow: auto;}#sk-container-id-1 input.sk-toggleable__control:checked~label.sk-toggleable__label-arrow:before {content: \"▾\";}#sk-container-id-1 div.sk-estimator input.sk-toggleable__control:checked~label.sk-toggleable__label {background-color: #d4ebff;}#sk-container-id-1 div.sk-label input.sk-toggleable__control:checked~label.sk-toggleable__label {background-color: #d4ebff;}#sk-container-id-1 input.sk-hidden--visually {border: 0;clip: rect(1px 1px 1px 1px);clip: rect(1px, 1px, 1px, 1px);height: 1px;margin: -1px;overflow: hidden;padding: 0;position: absolute;width: 1px;}#sk-container-id-1 div.sk-estimator {font-family: monospace;background-color: #f0f8ff;border: 1px dotted black;border-radius: 0.25em;box-sizing: border-box;margin-bottom: 0.5em;}#sk-container-id-1 div.sk-estimator:hover {background-color: #d4ebff;}#sk-container-id-1 div.sk-parallel-item::after {content: \"\";width: 100%;border-bottom: 1px solid gray;flex-grow: 1;}#sk-container-id-1 div.sk-label:hover label.sk-toggleable__label {background-color: #d4ebff;}#sk-container-id-1 div.sk-serial::before {content: \"\";position: absolute;border-left: 1px solid gray;box-sizing: border-box;top: 0;bottom: 0;left: 50%;z-index: 0;}#sk-container-id-1 div.sk-serial {display: flex;flex-direction: column;align-items: center;background-color: white;padding-right: 0.2em;padding-left: 0.2em;position: relative;}#sk-container-id-1 div.sk-item {position: relative;z-index: 1;}#sk-container-id-1 div.sk-parallel {display: flex;align-items: stretch;justify-content: center;background-color: white;position: relative;}#sk-container-id-1 div.sk-item::before, #sk-container-id-1 div.sk-parallel-item::before {content: \"\";position: absolute;border-left: 1px solid gray;box-sizing: border-box;top: 0;bottom: 0;left: 50%;z-index: -1;}#sk-container-id-1 div.sk-parallel-item {display: flex;flex-direction: column;z-index: 1;position: relative;background-color: white;}#sk-container-id-1 div.sk-parallel-item:first-child::after {align-self: flex-end;width: 50%;}#sk-container-id-1 div.sk-parallel-item:last-child::after {align-self: flex-start;width: 50%;}#sk-container-id-1 div.sk-parallel-item:only-child::after {width: 0;}#sk-container-id-1 div.sk-dashed-wrapped {border: 1px dashed gray;margin: 0 0.4em 0.5em 0.4em;box-sizing: border-box;padding-bottom: 0.4em;background-color: white;}#sk-container-id-1 div.sk-label label {font-family: monospace;font-weight: bold;display: inline-block;line-height: 1.2em;}#sk-container-id-1 div.sk-label-container {text-align: center;}#sk-container-id-1 div.sk-container {/* jupyter's `normalize.less` sets `[hidden] { display: none; }` but bootstrap.min.css set `[hidden] { display: none !important; }` so we also need the `!important` here to be able to override the default hidden behavior on the sphinx rendered scikit-learn.org. See: https://github.com/scikit-learn/scikit-learn/issues/21755 */display: inline-block !important;position: relative;}#sk-container-id-1 div.sk-text-repr-fallback {display: none;}</style><div id=\"sk-container-id-1\" class=\"sk-top-container\"><div class=\"sk-text-repr-fallback\"><pre>LogisticRegression()</pre><b>In a Jupyter environment, please rerun this cell to show the HTML representation or trust the notebook. <br />On GitHub, the HTML representation is unable to render, please try loading this page with nbviewer.org.</b></div><div class=\"sk-container\" hidden><div class=\"sk-item\"><div class=\"sk-estimator sk-toggleable\"><input class=\"sk-toggleable__control sk-hidden--visually\" id=\"sk-estimator-id-1\" type=\"checkbox\" checked><label for=\"sk-estimator-id-1\" class=\"sk-toggleable__label sk-toggleable__label-arrow\">LogisticRegression</label><div class=\"sk-toggleable__content\"><pre>LogisticRegression()</pre></div></div></div></div></div>"
      ],
      "text/plain": [
       "LogisticRegression()"
      ]
     },
     "execution_count": 26,
     "metadata": {},
     "output_type": "execute_result"
    }
   ],
   "source": [
    "LR.fit(X_train, y_train)"
   ]
  },
  {
   "cell_type": "code",
   "execution_count": null,
   "metadata": {},
   "outputs": [],
   "source": [
    "y_pred = LR.predict(X_train)"
   ]
  },
  {
   "cell_type": "code",
   "execution_count": null,
   "metadata": {},
   "outputs": [
    {
     "data": {
      "text/plain": [
       "0.8294051627384961"
      ]
     },
     "execution_count": 28,
     "metadata": {},
     "output_type": "execute_result"
    }
   ],
   "source": [
    "skm.accuracy_score(y_train, y_pred)"
   ]
  },
  {
   "cell_type": "code",
   "execution_count": null,
   "metadata": {},
   "outputs": [],
   "source": []
  },
  {
   "cell_type": "code",
   "execution_count": null,
   "metadata": {},
   "outputs": [],
   "source": []
  }
 ],
 "metadata": {
  "kernelspec": {
   "display_name": "simplon",
   "language": "python",
   "name": "python3"
  },
  "language_info": {
   "codemirror_mode": {
    "name": "ipython",
    "version": 3
   },
   "file_extension": ".py",
   "mimetype": "text/x-python",
   "name": "python",
   "nbconvert_exporter": "python",
   "pygments_lexer": "ipython3",
   "version": "3.8.12 (default, Dec 10 2022, 09:44:56) \n[GCC 11.3.0]"
  },
  "orig_nbformat": 4,
  "vscode": {
   "interpreter": {
    "hash": "01d88b12a8943696c7aa3628f107e4b8e99170437b4abb44d70442a2a4526094"
   }
  }
 },
 "nbformat": 4,
 "nbformat_minor": 2
}
